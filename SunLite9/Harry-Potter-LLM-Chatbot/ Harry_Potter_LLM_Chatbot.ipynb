{
  "cells": [
    {
      "cell_type": "markdown",
      "metadata": {
        "id": "view-in-github",
        "colab_type": "text"
      },
      "source": [
        "<a href=\"https://colab.research.google.com/github/SunLite9/Harry-Potter-LLM-Chatbot/blob/main/SunLite9/Harry-Potter-LLM-Chatbot/%20Harry_Potter_LLM_Chatbot.ipynb\" target=\"_parent\"><img src=\"https://colab.research.google.com/assets/colab-badge.svg\" alt=\"Open In Colab\"/></a>"
      ]
    },
    {
      "cell_type": "code",
      "execution_count": 1,
      "metadata": {
        "colab": {
          "base_uri": "https://localhost:8080/"
        },
        "id": "xSMhrcyCQ4s1",
        "outputId": "5d39acff-e353-4c16-8498-b9405190ad5f"
      },
      "outputs": [
        {
          "output_type": "stream",
          "name": "stdout",
          "text": [
            "GPU 0: NVIDIA A100-SXM4-40GB (UUID: GPU-2e03bc7d-b580-64a0-1083-1b0a325fd4dc)\n"
          ]
        }
      ],
      "source": [
        "! nvidia-smi -L"
      ]
    },
    {
      "cell_type": "markdown",
      "source": [
        "# Install/Imports\n"
      ],
      "metadata": {
        "id": "s2NtoOG1J2u8"
      }
    },
    {
      "cell_type": "code",
      "source": [
        "from google.colab import drive\n",
        "drive.mount('/content/drive')"
      ],
      "metadata": {
        "colab": {
          "base_uri": "https://localhost:8080/"
        },
        "id": "bAoCMIsCN9vE",
        "outputId": "82076a4e-bdec-43d7-92c7-73bd93e192ad"
      },
      "execution_count": 2,
      "outputs": [
        {
          "output_type": "stream",
          "name": "stdout",
          "text": [
            "Drive already mounted at /content/drive; to attempt to forcibly remount, call drive.mount(\"/content/drive\", force_remount=True).\n"
          ]
        }
      ]
    },
    {
      "cell_type": "code",
      "execution_count": 3,
      "metadata": {
        "colab": {
          "base_uri": "https://localhost:8080/"
        },
        "id": "5mQyr1i_Q6q4",
        "outputId": "5ad20419-e363-4857-d6cc-d3a182fc1ecf"
      },
      "outputs": [
        {
          "output_type": "stream",
          "name": "stdout",
          "text": [
            "Requirement already satisfied: langchain in /usr/local/lib/python3.10/dist-packages (0.3.3)\n",
            "Requirement already satisfied: tiktoken in /usr/local/lib/python3.10/dist-packages (0.8.0)\n",
            "Requirement already satisfied: pypdf in /usr/local/lib/python3.10/dist-packages (5.0.1)\n",
            "Requirement already satisfied: faiss-gpu in /usr/local/lib/python3.10/dist-packages (1.7.2)\n",
            "Requirement already satisfied: InstructorEmbedding in /usr/local/lib/python3.10/dist-packages (1.0.1)\n",
            "Requirement already satisfied: transformers in /usr/local/lib/python3.10/dist-packages (4.45.2)\n",
            "Requirement already satisfied: accelerate in /usr/local/lib/python3.10/dist-packages (1.0.1)\n",
            "Requirement already satisfied: bitsandbytes in /usr/local/lib/python3.10/dist-packages (0.44.1)\n",
            "Requirement already satisfied: langchain-huggingface in /usr/local/lib/python3.10/dist-packages (0.1.0)\n",
            "Requirement already satisfied: langchain-community in /usr/local/lib/python3.10/dist-packages (0.3.2)\n",
            "Requirement already satisfied: sentence_transformers==2.2.2 in /usr/local/lib/python3.10/dist-packages (2.2.2)\n",
            "Requirement already satisfied: transformers<5.0.0,>=4.6.0 in /usr/local/lib/python3.10/dist-packages (from sentence_transformers==2.2.2) (4.45.2)\n",
            "Requirement already satisfied: tqdm in /usr/local/lib/python3.10/dist-packages (from sentence_transformers==2.2.2) (4.66.5)\n",
            "Requirement already satisfied: torch>=1.6.0 in /usr/local/lib/python3.10/dist-packages (from sentence_transformers==2.2.2) (2.4.1+cu121)\n",
            "Requirement already satisfied: torchvision in /usr/local/lib/python3.10/dist-packages (from sentence_transformers==2.2.2) (0.19.1+cu121)\n",
            "Requirement already satisfied: numpy in /usr/local/lib/python3.10/dist-packages (from sentence_transformers==2.2.2) (1.26.4)\n",
            "Requirement already satisfied: scikit-learn in /usr/local/lib/python3.10/dist-packages (from sentence_transformers==2.2.2) (1.5.2)\n",
            "Requirement already satisfied: scipy in /usr/local/lib/python3.10/dist-packages (from sentence_transformers==2.2.2) (1.13.1)\n",
            "Requirement already satisfied: nltk in /usr/local/lib/python3.10/dist-packages (from sentence_transformers==2.2.2) (3.8.1)\n",
            "Requirement already satisfied: sentencepiece in /usr/local/lib/python3.10/dist-packages (from sentence_transformers==2.2.2) (0.2.0)\n",
            "Requirement already satisfied: huggingface-hub>=0.4.0 in /usr/local/lib/python3.10/dist-packages (from sentence_transformers==2.2.2) (0.25.2)\n",
            "Requirement already satisfied: filelock in /usr/local/lib/python3.10/dist-packages (from huggingface-hub>=0.4.0->sentence_transformers==2.2.2) (3.16.1)\n",
            "Requirement already satisfied: fsspec>=2023.5.0 in /usr/local/lib/python3.10/dist-packages (from huggingface-hub>=0.4.0->sentence_transformers==2.2.2) (2024.6.1)\n",
            "Requirement already satisfied: packaging>=20.9 in /usr/local/lib/python3.10/dist-packages (from huggingface-hub>=0.4.0->sentence_transformers==2.2.2) (24.1)\n",
            "Requirement already satisfied: pyyaml>=5.1 in /usr/local/lib/python3.10/dist-packages (from huggingface-hub>=0.4.0->sentence_transformers==2.2.2) (6.0.2)\n",
            "Requirement already satisfied: requests in /usr/local/lib/python3.10/dist-packages (from huggingface-hub>=0.4.0->sentence_transformers==2.2.2) (2.32.3)\n",
            "Requirement already satisfied: typing-extensions>=3.7.4.3 in /usr/local/lib/python3.10/dist-packages (from huggingface-hub>=0.4.0->sentence_transformers==2.2.2) (4.12.2)\n",
            "Requirement already satisfied: sympy in /usr/local/lib/python3.10/dist-packages (from torch>=1.6.0->sentence_transformers==2.2.2) (1.13.3)\n",
            "Requirement already satisfied: networkx in /usr/local/lib/python3.10/dist-packages (from torch>=1.6.0->sentence_transformers==2.2.2) (3.4)\n",
            "Requirement already satisfied: jinja2 in /usr/local/lib/python3.10/dist-packages (from torch>=1.6.0->sentence_transformers==2.2.2) (3.1.4)\n",
            "Requirement already satisfied: regex!=2019.12.17 in /usr/local/lib/python3.10/dist-packages (from transformers<5.0.0,>=4.6.0->sentence_transformers==2.2.2) (2024.9.11)\n",
            "Requirement already satisfied: safetensors>=0.4.1 in /usr/local/lib/python3.10/dist-packages (from transformers<5.0.0,>=4.6.0->sentence_transformers==2.2.2) (0.4.5)\n",
            "Requirement already satisfied: tokenizers<0.21,>=0.20 in /usr/local/lib/python3.10/dist-packages (from transformers<5.0.0,>=4.6.0->sentence_transformers==2.2.2) (0.20.1)\n",
            "Requirement already satisfied: click in /usr/local/lib/python3.10/dist-packages (from nltk->sentence_transformers==2.2.2) (8.1.7)\n",
            "Requirement already satisfied: joblib in /usr/local/lib/python3.10/dist-packages (from nltk->sentence_transformers==2.2.2) (1.4.2)\n",
            "Requirement already satisfied: threadpoolctl>=3.1.0 in /usr/local/lib/python3.10/dist-packages (from scikit-learn->sentence_transformers==2.2.2) (3.5.0)\n",
            "Requirement already satisfied: pillow!=8.3.*,>=5.3.0 in /usr/local/lib/python3.10/dist-packages (from torchvision->sentence_transformers==2.2.2) (10.4.0)\n",
            "Requirement already satisfied: MarkupSafe>=2.0 in /usr/local/lib/python3.10/dist-packages (from jinja2->torch>=1.6.0->sentence_transformers==2.2.2) (2.1.5)\n",
            "Requirement already satisfied: charset-normalizer<4,>=2 in /usr/local/lib/python3.10/dist-packages (from requests->huggingface-hub>=0.4.0->sentence_transformers==2.2.2) (3.4.0)\n",
            "Requirement already satisfied: idna<4,>=2.5 in /usr/local/lib/python3.10/dist-packages (from requests->huggingface-hub>=0.4.0->sentence_transformers==2.2.2) (3.10)\n",
            "Requirement already satisfied: urllib3<3,>=1.21.1 in /usr/local/lib/python3.10/dist-packages (from requests->huggingface-hub>=0.4.0->sentence_transformers==2.2.2) (2.2.3)\n",
            "Requirement already satisfied: certifi>=2017.4.17 in /usr/local/lib/python3.10/dist-packages (from requests->huggingface-hub>=0.4.0->sentence_transformers==2.2.2) (2024.8.30)\n",
            "Requirement already satisfied: mpmath<1.4,>=1.1.0 in /usr/local/lib/python3.10/dist-packages (from sympy->torch>=1.6.0->sentence_transformers==2.2.2) (1.3.0)\n",
            "Requirement already satisfied: gradio in /usr/local/lib/python3.10/dist-packages (5.1.0)\n",
            "Requirement already satisfied: aiofiles<24.0,>=22.0 in /usr/local/lib/python3.10/dist-packages (from gradio) (23.2.1)\n",
            "Requirement already satisfied: anyio<5.0,>=3.0 in /usr/local/lib/python3.10/dist-packages (from gradio) (3.7.1)\n",
            "Requirement already satisfied: fastapi<1.0 in /usr/local/lib/python3.10/dist-packages (from gradio) (0.115.2)\n",
            "Requirement already satisfied: ffmpy in /usr/local/lib/python3.10/dist-packages (from gradio) (0.4.0)\n",
            "Requirement already satisfied: gradio-client==1.4.0 in /usr/local/lib/python3.10/dist-packages (from gradio) (1.4.0)\n",
            "Requirement already satisfied: httpx>=0.24.1 in /usr/local/lib/python3.10/dist-packages (from gradio) (0.27.2)\n",
            "Requirement already satisfied: huggingface-hub>=0.25.1 in /usr/local/lib/python3.10/dist-packages (from gradio) (0.25.2)\n",
            "Requirement already satisfied: jinja2<4.0 in /usr/local/lib/python3.10/dist-packages (from gradio) (3.1.4)\n",
            "Requirement already satisfied: markupsafe~=2.0 in /usr/local/lib/python3.10/dist-packages (from gradio) (2.1.5)\n",
            "Requirement already satisfied: numpy<3.0,>=1.0 in /usr/local/lib/python3.10/dist-packages (from gradio) (1.26.4)\n",
            "Requirement already satisfied: orjson~=3.0 in /usr/local/lib/python3.10/dist-packages (from gradio) (3.10.7)\n",
            "Requirement already satisfied: packaging in /usr/local/lib/python3.10/dist-packages (from gradio) (24.1)\n",
            "Requirement already satisfied: pandas<3.0,>=1.0 in /usr/local/lib/python3.10/dist-packages (from gradio) (2.2.2)\n",
            "Requirement already satisfied: pillow<11.0,>=8.0 in /usr/local/lib/python3.10/dist-packages (from gradio) (10.4.0)\n",
            "Requirement already satisfied: pydantic>=2.0 in /usr/local/lib/python3.10/dist-packages (from gradio) (2.9.2)\n",
            "Requirement already satisfied: pydub in /usr/local/lib/python3.10/dist-packages (from gradio) (0.25.1)\n",
            "Requirement already satisfied: python-multipart>=0.0.9 in /usr/local/lib/python3.10/dist-packages (from gradio) (0.0.12)\n",
            "Requirement already satisfied: pyyaml<7.0,>=5.0 in /usr/local/lib/python3.10/dist-packages (from gradio) (6.0.2)\n",
            "Requirement already satisfied: ruff>=0.2.2 in /usr/local/lib/python3.10/dist-packages (from gradio) (0.7.0)\n",
            "Requirement already satisfied: semantic-version~=2.0 in /usr/local/lib/python3.10/dist-packages (from gradio) (2.10.0)\n",
            "Requirement already satisfied: tomlkit==0.12.0 in /usr/local/lib/python3.10/dist-packages (from gradio) (0.12.0)\n",
            "Requirement already satisfied: typer<1.0,>=0.12 in /usr/local/lib/python3.10/dist-packages (from gradio) (0.12.5)\n",
            "Requirement already satisfied: typing-extensions~=4.0 in /usr/local/lib/python3.10/dist-packages (from gradio) (4.12.2)\n",
            "Requirement already satisfied: uvicorn>=0.14.0 in /usr/local/lib/python3.10/dist-packages (from gradio) (0.32.0)\n",
            "Requirement already satisfied: fsspec in /usr/local/lib/python3.10/dist-packages (from gradio-client==1.4.0->gradio) (2024.6.1)\n",
            "Requirement already satisfied: websockets<13.0,>=10.0 in /usr/local/lib/python3.10/dist-packages (from gradio-client==1.4.0->gradio) (12.0)\n",
            "Requirement already satisfied: idna>=2.8 in /usr/local/lib/python3.10/dist-packages (from anyio<5.0,>=3.0->gradio) (3.10)\n",
            "Requirement already satisfied: sniffio>=1.1 in /usr/local/lib/python3.10/dist-packages (from anyio<5.0,>=3.0->gradio) (1.3.1)\n",
            "Requirement already satisfied: exceptiongroup in /usr/local/lib/python3.10/dist-packages (from anyio<5.0,>=3.0->gradio) (1.2.2)\n",
            "Requirement already satisfied: starlette<0.41.0,>=0.37.2 in /usr/local/lib/python3.10/dist-packages (from fastapi<1.0->gradio) (0.40.0)\n",
            "Requirement already satisfied: certifi in /usr/local/lib/python3.10/dist-packages (from httpx>=0.24.1->gradio) (2024.8.30)\n",
            "Requirement already satisfied: httpcore==1.* in /usr/local/lib/python3.10/dist-packages (from httpx>=0.24.1->gradio) (1.0.6)\n",
            "Requirement already satisfied: h11<0.15,>=0.13 in /usr/local/lib/python3.10/dist-packages (from httpcore==1.*->httpx>=0.24.1->gradio) (0.14.0)\n",
            "Requirement already satisfied: filelock in /usr/local/lib/python3.10/dist-packages (from huggingface-hub>=0.25.1->gradio) (3.16.1)\n",
            "Requirement already satisfied: requests in /usr/local/lib/python3.10/dist-packages (from huggingface-hub>=0.25.1->gradio) (2.32.3)\n",
            "Requirement already satisfied: tqdm>=4.42.1 in /usr/local/lib/python3.10/dist-packages (from huggingface-hub>=0.25.1->gradio) (4.66.5)\n",
            "Requirement already satisfied: python-dateutil>=2.8.2 in /usr/local/lib/python3.10/dist-packages (from pandas<3.0,>=1.0->gradio) (2.8.2)\n",
            "Requirement already satisfied: pytz>=2020.1 in /usr/local/lib/python3.10/dist-packages (from pandas<3.0,>=1.0->gradio) (2024.2)\n",
            "Requirement already satisfied: tzdata>=2022.7 in /usr/local/lib/python3.10/dist-packages (from pandas<3.0,>=1.0->gradio) (2024.2)\n",
            "Requirement already satisfied: annotated-types>=0.6.0 in /usr/local/lib/python3.10/dist-packages (from pydantic>=2.0->gradio) (0.7.0)\n",
            "Requirement already satisfied: pydantic-core==2.23.4 in /usr/local/lib/python3.10/dist-packages (from pydantic>=2.0->gradio) (2.23.4)\n",
            "Requirement already satisfied: click>=8.0.0 in /usr/local/lib/python3.10/dist-packages (from typer<1.0,>=0.12->gradio) (8.1.7)\n",
            "Requirement already satisfied: shellingham>=1.3.0 in /usr/local/lib/python3.10/dist-packages (from typer<1.0,>=0.12->gradio) (1.5.4)\n",
            "Requirement already satisfied: rich>=10.11.0 in /usr/local/lib/python3.10/dist-packages (from typer<1.0,>=0.12->gradio) (13.9.2)\n",
            "Requirement already satisfied: six>=1.5 in /usr/local/lib/python3.10/dist-packages (from python-dateutil>=2.8.2->pandas<3.0,>=1.0->gradio) (1.16.0)\n",
            "Requirement already satisfied: markdown-it-py>=2.2.0 in /usr/local/lib/python3.10/dist-packages (from rich>=10.11.0->typer<1.0,>=0.12->gradio) (3.0.0)\n",
            "Requirement already satisfied: pygments<3.0.0,>=2.13.0 in /usr/local/lib/python3.10/dist-packages (from rich>=10.11.0->typer<1.0,>=0.12->gradio) (2.18.0)\n",
            "Requirement already satisfied: charset-normalizer<4,>=2 in /usr/local/lib/python3.10/dist-packages (from requests->huggingface-hub>=0.25.1->gradio) (3.4.0)\n",
            "Requirement already satisfied: urllib3<3,>=1.21.1 in /usr/local/lib/python3.10/dist-packages (from requests->huggingface-hub>=0.25.1->gradio) (2.2.3)\n",
            "Requirement already satisfied: mdurl~=0.1 in /usr/local/lib/python3.10/dist-packages (from markdown-it-py>=2.2.0->rich>=10.11.0->typer<1.0,>=0.12->gradio) (0.1.2)\n",
            "CPU times: user 136 ms, sys: 27.4 ms, total: 164 ms\n",
            "Wall time: 20.7 s\n"
          ]
        }
      ],
      "source": [
        "%%time\n",
        "\n",
        "! pip install --no-deps langchain\n",
        "! pip install --no-deps tiktoken\n",
        "! pip install --no-deps pypdf\n",
        "! pip install --no-deps faiss-gpu\n",
        "! pip install --no-deps InstructorEmbedding\n",
        "! pip install --no-deps transformers\n",
        "! pip install --no-deps accelerate\n",
        "! pip install --no-deps bitsandbytes\n",
        "! pip install --no-deps langchain-huggingface\n",
        "! pip install --no-deps langchain-community\n",
        "! pip install sentence_transformers==2.2.2\n",
        "! pip install -qq -U langchain tiktoken pypdf chromadb faiss-gpu\n",
        "! pip install -qq -U transformers InstructorEmbedding\n",
        "# ! pip install -qq -U transformers InstructorEmbedding sentence_transformers==2.2.2\n",
        "! pip install -qq -U accelerate bitsandbytes xformers einops\n",
        "! pip install gradio\n"
      ]
    },
    {
      "cell_type": "code",
      "execution_count": 4,
      "metadata": {
        "colab": {
          "base_uri": "https://localhost:8080/"
        },
        "id": "ibGhxix6fkKu",
        "outputId": "912e2ef2-2310-4218-c6c6-a160d29d2c92"
      },
      "outputs": [
        {
          "output_type": "stream",
          "name": "stdout",
          "text": [
            "Name: sentence-transformers\n",
            "Version: 2.2.2\n",
            "Summary: Multilingual text embeddings\n",
            "Home-page: https://github.com/UKPLab/sentence-transformers\n",
            "Author: Nils Reimers\n",
            "Author-email: info@nils-reimers.de\n",
            "License: Apache License 2.0\n",
            "Location: /usr/local/lib/python3.10/dist-packages\n",
            "Requires: huggingface-hub, nltk, numpy, scikit-learn, scipy, sentencepiece, torch, torchvision, tqdm, transformers\n",
            "Required-by: langchain-huggingface\n"
          ]
        }
      ],
      "source": [
        "! pip show sentence-transformers"
      ]
    },
    {
      "cell_type": "code",
      "execution_count": 5,
      "metadata": {
        "colab": {
          "base_uri": "https://localhost:8080/"
        },
        "id": "ptpGlxlDQ9ar",
        "outputId": "761314d4-76ae-49ff-862d-ddf31b34b51a"
      },
      "outputs": [
        {
          "output_type": "stream",
          "name": "stdout",
          "text": [
            "5.1.0\n",
            "0.3.3\n"
          ]
        }
      ],
      "source": [
        "import warnings\n",
        "warnings.filterwarnings(\"ignore\")\n",
        "\n",
        "import os\n",
        "import textwrap\n",
        "\n",
        "import langchain\n",
        "\n",
        "from langchain_huggingface import HuggingFacePipeline\n",
        "\n",
        "import torch\n",
        "import transformers\n",
        "from transformers import AutoTokenizer, AutoModelForCausalLM\n",
        "from transformers import LlamaTokenizer, LlamaForCausalLM, pipeline\n",
        "\n",
        "import gradio as gr\n",
        "\n",
        "print(gr.__version__)\n",
        "\n",
        "print(langchain.__version__)"
      ]
    },
    {
      "cell_type": "code",
      "execution_count": 6,
      "metadata": {
        "id": "0dvDVN2XMSpA"
      },
      "outputs": [],
      "source": [
        "from langchain.vectorstores import Chroma, FAISS\n",
        "from langchain.text_splitter import RecursiveCharacterTextSplitter\n",
        "\n",
        "from langchain.chains import RetrievalQA, VectorDBQA\n",
        "from langchain.document_loaders import PyPDFLoader\n",
        "from langchain.document_loaders import DirectoryLoader\n",
        "\n",
        "\n",
        "from InstructorEmbedding import INSTRUCTOR\n",
        "from langchain.embeddings import HuggingFaceInstructEmbeddings"
      ]
    },
    {
      "cell_type": "markdown",
      "source": [
        "# Defining the Model Configuration and Loading Function"
      ],
      "metadata": {
        "id": "Cbw_vwnaMZGB"
      }
    },
    {
      "cell_type": "code",
      "execution_count": 7,
      "metadata": {
        "id": "kNvdTpaRMVF8"
      },
      "outputs": [],
      "source": [
        "class CFG:\n",
        "    model_name = 'falcon' # wizardlm, llama, bloom, falcon"
      ]
    },
    {
      "cell_type": "code",
      "execution_count": 8,
      "metadata": {
        "id": "oyByU4IkMXdN"
      },
      "outputs": [],
      "source": [
        "def get_model(model = CFG.model_name):\n",
        "\n",
        "    print('\\nDownloading model: ', model, '\\n\\n')\n",
        "\n",
        "    if CFG.model_name == 'wizardlm':\n",
        "        tokenizer = AutoTokenizer.from_pretrained('TheBloke/wizardLM-7B-HF')\n",
        "\n",
        "        model = AutoModelForCausalLM.from_pretrained('TheBloke/wizardLM-7B-HF',\n",
        "                                                     load_in_8bit=True,\n",
        "                                                     device_map='auto',\n",
        "                                                     torch_dtype=torch.float16,\n",
        "                                                     low_cpu_mem_usage=True\n",
        "                                                    )\n",
        "        max_len = 1024\n",
        "        task = \"text-generation\"\n",
        "        T = 0\n",
        "\n",
        "    elif CFG.model_name == 'llama':\n",
        "        tokenizer = AutoTokenizer.from_pretrained(\"aleksickx/llama-7b-hf\")\n",
        "\n",
        "        model = AutoModelForCausalLM.from_pretrained(\"aleksickx/llama-7b-hf\",\n",
        "                                                     load_in_8bit=True,\n",
        "                                                     device_map='auto',\n",
        "                                                     torch_dtype=torch.float16,\n",
        "                                                     low_cpu_mem_usage=True,\n",
        "                                                    )\n",
        "        max_len = 1024\n",
        "        task = \"text-generation\"\n",
        "        T = 0.1\n",
        "\n",
        "    elif CFG.model_name == 'bloom':\n",
        "        tokenizer = AutoTokenizer.from_pretrained(\"bigscience/bloom-7b1\")\n",
        "\n",
        "        model = AutoModelForCausalLM.from_pretrained(\"bigscience/bloom-7b1\",\n",
        "                                                     load_in_8bit=True,\n",
        "                                                     device_map='auto',\n",
        "                                                     torch_dtype=torch.float16,\n",
        "                                                     low_cpu_mem_usage=True,\n",
        "                                                    )\n",
        "        max_len = 1024\n",
        "        task = \"text-generation\"\n",
        "        T = 0\n",
        "\n",
        "    elif CFG.model_name == 'falcon':\n",
        "\n",
        "        #model identifier\n",
        "        tokenizer = AutoTokenizer.from_pretrained(\"h2oai/h2ogpt-gm-oasst1-en-2048-falcon-7b-v2\")\n",
        "\n",
        "        model = AutoModelForCausalLM.from_pretrained(\"h2oai/h2ogpt-gm-oasst1-en-2048-falcon-7b-v2\",\n",
        "                                                     load_in_8bit=True,\n",
        "                                                     device_map='auto',\n",
        "                                                     torch_dtype=torch.float16,\n",
        "                                                     low_cpu_mem_usage=True,\n",
        "                                                     trust_remote_code=True\n",
        "                                                    )\n",
        "        max_len = 1024\n",
        "        task = \"text-generation\"\n",
        "        T = 0\n",
        "\n",
        "    else:\n",
        "        print(\"Not implemented model (tokenizer and backbone)\")\n",
        "\n",
        "    return tokenizer, model, max_len, task, T"
      ]
    },
    {
      "cell_type": "markdown",
      "source": [
        "# Hugging Face"
      ],
      "metadata": {
        "id": "ZScxAN7fMcRI"
      }
    },
    {
      "cell_type": "code",
      "execution_count": 9,
      "metadata": {
        "colab": {
          "base_uri": "https://localhost:8080/",
          "height": 171,
          "referenced_widgets": [
            "544829a034b94f1a9888df1da66038bd",
            "457a2329ff444da9b95836537ac77be6",
            "39a98753d9e945bf914afe10df836038",
            "4ae679de28bc45a9a6ba9d102e00d551",
            "19d388f62fed426f9a88d96a4bfb045b",
            "bfbcd490ee5c41fda2d8450164b5deeb",
            "512270c12faa4066a184a9138b8afd7f",
            "bfb7f4b0bc744d2c9733f0e00894dc11",
            "2a5d2d96072a418687faea7dfe9aefba",
            "ba6601383d994234a8f6029ec43b7bfa",
            "be72b000ca964084857812c9392e160c"
          ]
        },
        "id": "ZWlePrCaMa7_",
        "outputId": "2dad4567-3d6a-444c-930b-7b268b10e3dd"
      },
      "outputs": [
        {
          "output_type": "stream",
          "name": "stdout",
          "text": [
            "\n",
            "Downloading model:  falcon \n",
            "\n",
            "\n"
          ]
        },
        {
          "output_type": "stream",
          "name": "stderr",
          "text": [
            "The `load_in_4bit` and `load_in_8bit` arguments are deprecated and will be removed in the future versions. Please, pass a `BitsAndBytesConfig` object in `quantization_config` argument instead.\n"
          ]
        },
        {
          "output_type": "display_data",
          "data": {
            "text/plain": [
              "Loading checkpoint shards:   0%|          | 0/2 [00:00<?, ?it/s]"
            ],
            "application/vnd.jupyter.widget-view+json": {
              "version_major": 2,
              "version_minor": 0,
              "model_id": "544829a034b94f1a9888df1da66038bd"
            }
          },
          "metadata": {}
        },
        {
          "output_type": "stream",
          "name": "stdout",
          "text": [
            "CPU times: user 4.76 s, sys: 1.95 s, total: 6.71 s\n",
            "Wall time: 9.44 s\n"
          ]
        }
      ],
      "source": [
        "%%time\n",
        "\n",
        "tokenizer, model, max_len, task, T = get_model(CFG.model_name)"
      ]
    },
    {
      "cell_type": "code",
      "execution_count": 10,
      "metadata": {
        "id": "i-y27c5QN_60"
      },
      "outputs": [],
      "source": [
        "pipe = pipeline(\n",
        "    task=task,\n",
        "    model=model,\n",
        "    tokenizer=tokenizer,\n",
        "    max_length=max_len,\n",
        "    temperature=T,\n",
        "    top_p=0.95,\n",
        "    repetition_penalty=1.15\n",
        ")\n",
        "\n",
        "llm = HuggingFacePipeline(pipeline=pipe)"
      ]
    },
    {
      "cell_type": "code",
      "execution_count": 11,
      "metadata": {
        "id": "M0c-8U7ROB7-",
        "colab": {
          "base_uri": "https://localhost:8080/"
        },
        "outputId": "d094107a-e0bb-4b84-f048-48aefc345780"
      },
      "outputs": [
        {
          "output_type": "execute_result",
          "data": {
            "text/plain": [
              "HuggingFacePipeline(pipeline=<transformers.pipelines.text_generation.TextGenerationPipeline object at 0x7e43c40ca1d0>)"
            ]
          },
          "metadata": {},
          "execution_count": 11
        }
      ],
      "source": [
        "llm"
      ]
    },
    {
      "cell_type": "markdown",
      "source": [
        "# Langchain"
      ],
      "metadata": {
        "id": "iqlBvER2MfJC"
      }
    },
    {
      "cell_type": "code",
      "execution_count": 12,
      "metadata": {
        "id": "6hn9_Y04OH7b",
        "colab": {
          "base_uri": "https://localhost:8080/",
          "height": 35
        },
        "outputId": "323add88-a943-4fd9-e851-7734ea159379"
      },
      "outputs": [
        {
          "output_type": "execute_result",
          "data": {
            "text/plain": [
              "'falcon'"
            ],
            "application/vnd.google.colaboratory.intrinsic+json": {
              "type": "string"
            }
          },
          "metadata": {},
          "execution_count": 12
        }
      ],
      "source": [
        "CFG.model_name"
      ]
    },
    {
      "cell_type": "markdown",
      "source": [
        "Load Harry Potter PDFs"
      ],
      "metadata": {
        "id": "6Q1RWrWDSLqY"
      }
    },
    {
      "cell_type": "code",
      "execution_count": 13,
      "metadata": {
        "id": "MPRzOvqcSTDK",
        "colab": {
          "base_uri": "https://localhost:8080/"
        },
        "outputId": "dbdbd7cf-e625-49e6-b44e-1b438571a30a"
      },
      "outputs": [
        {
          "output_type": "stream",
          "name": "stderr",
          "text": [
            "100%|██████████| 7/7 [00:54<00:00,  7.79s/it]\n"
          ]
        }
      ],
      "source": [
        "from langchain.document_loaders import DirectoryLoader, PyPDFLoader\n",
        "\n",
        "\n",
        "loader = DirectoryLoader('/content/drive/My Drive/HarryPotter/',\n",
        "                         glob=\"*.pdf\",\n",
        "                         loader_cls=PyPDFLoader,\n",
        "                         show_progress=True,\n",
        "                         use_multithreading=True)\n",
        "\n",
        "\n",
        "documents = loader.load()\n"
      ]
    },
    {
      "cell_type": "markdown",
      "source": [
        "Document Preprocessing"
      ],
      "metadata": {
        "id": "k9nqq7ljSPh4"
      }
    },
    {
      "cell_type": "code",
      "execution_count": 14,
      "metadata": {
        "id": "snZceZWOStSL",
        "colab": {
          "base_uri": "https://localhost:8080/"
        },
        "outputId": "69ac5c65-fcef-4e16-8f8b-8fe4e1e8e5df"
      },
      "outputs": [
        {
          "output_type": "stream",
          "name": "stdout",
          "text": [
            "CPU times: user 54.7 ms, sys: 11 ms, total: 65.7 ms\n",
            "Wall time: 65.5 ms\n"
          ]
        }
      ],
      "source": [
        "%%time\n",
        "\n",
        "for i in range(len(documents)):\n",
        "    documents[i].page_content = documents[i].page_content.replace('\\t', ' ')\\\n",
        "                                                         .replace('\\n', ' ')\\\n",
        "                                                         .replace('       ', ' ')\\\n",
        "                                                         .replace('      ', ' ')\\\n",
        "                                                         .replace('     ', ' ')\\\n",
        "                                                         .replace('    ', ' ')\\\n",
        "                                                         .replace('   ', ' ')\\\n",
        "                                                         .replace('  ', ' ')"
      ]
    },
    {
      "cell_type": "code",
      "execution_count": 15,
      "metadata": {
        "id": "HaQuLKRPS8_m",
        "colab": {
          "base_uri": "https://localhost:8080/"
        },
        "outputId": "7e559b4e-c460-49c2-f6c8-27d7b8985a94"
      },
      "outputs": [
        {
          "output_type": "execute_result",
          "data": {
            "text/plain": [
              "2578"
            ]
          },
          "metadata": {},
          "execution_count": 15
        }
      ],
      "source": [
        "len(documents)"
      ]
    },
    {
      "cell_type": "code",
      "execution_count": 16,
      "metadata": {
        "id": "RFZu79AaTAyp",
        "colab": {
          "base_uri": "https://localhost:8080/",
          "height": 87
        },
        "outputId": "fcea9853-1eae-40b6-e182-0a17d1a8386a"
      },
      "outputs": [
        {
          "output_type": "execute_result",
          "data": {
            "text/plain": [
              "'But as all they knew for sure about the mysterious object was that it was about two inches long, they didn’t have much chance of guessing what it was without further clues. Neither Neville nor Hermione showed the slightest interest in what lay under- neath the dog and the trapdoor. All Neville cared about was never going near the dog again. Hermione was now refusing to speak to Harry and Ron, but she was such a bossy know-it-all that they saw this as an added bonus. All they really wanted now was a way of getting back at Malfoy, and to their great delight, just such a thing arrived in the mail about a week later. As the owls flooded into the Great Hall as usual, everyone’s attention was caught at once by a long, thin package carried by six large screech owls. Harry was just as interested as everyone else to see what was in this large parcel, and was amazed when the owls soared down and dropped it right in front of him, knocking his bacon to the floor. They had hardly fluttered out of the way when another owl dropped a letter on top of the parcel. Harry ripped open the letter first, which was lucky, because it said: DO NOT OPEN THE PARCEL AT THE TABLE. It contains your new Nimbus Two Thousand, but I don’t want everybody know- ing you’ve got a broomstick or they’ll all want one. Oliver Wood will meet you tonight on the Quidditch field at seven o’clock for your first training session. Professor McGonagall Harry had diﬀiculty hiding his glee as he handed the note to Ron to read. “A Nimbus Two Thousand!” Ron moaned enviously. “I’ve never even touched one.” They left the hall quickly, wanting to unwrap the broomstick in private before their first class, but halfway across the entrance hall they found the way upstairs barred by Crabbe and Goyle. Malfoy seized the package from Harry and felt it. “That’s a broomstick,” he said, throwing it back to Harry with a mixture of jealousy and spite on his face. “You’ll be in for it this time, Potter, first years aren’t allowed them.” Ron couldn’t resist it. “It’s not any old broomstick,” he said, “it’s a Nimbus Two Thousand. What did you say you’ve got at home, Malfoy, a Comet Two Sixty?” Ron grinned at Harry. “Comets look flashy, but they’re not in the same league as the Nimbus.” “What would you know about it, Weasley, you couldn’t afford half the handle,” Malfoy snapped back. “I suppose you and your brothers have to save up twig by twig.” 100'"
            ],
            "application/vnd.google.colaboratory.intrinsic+json": {
              "type": "string"
            }
          },
          "metadata": {},
          "execution_count": 16
        }
      ],
      "source": [
        "documents[99].page_content"
      ]
    },
    {
      "cell_type": "markdown",
      "source": [
        "Splits texts to smaller chunks"
      ],
      "metadata": {
        "id": "HZF3WA4ZMna1"
      }
    },
    {
      "cell_type": "code",
      "execution_count": 17,
      "metadata": {
        "id": "LQGzz1CDTEbv",
        "colab": {
          "base_uri": "https://localhost:8080/"
        },
        "outputId": "b10fd4bb-5616-4498-a663-f39f4cc08b6e"
      },
      "outputs": [
        {
          "output_type": "execute_result",
          "data": {
            "text/plain": [
              "7659"
            ]
          },
          "metadata": {},
          "execution_count": 17
        }
      ],
      "source": [
        "text_splitter = RecursiveCharacterTextSplitter(chunk_size=1000, chunk_overlap=0)\n",
        "texts = text_splitter.split_documents(documents)\n",
        "len(texts)"
      ]
    },
    {
      "cell_type": "markdown",
      "source": [
        "Vector Database"
      ],
      "metadata": {
        "id": "pq1Sof7vMtCC"
      }
    },
    {
      "cell_type": "code",
      "execution_count": 18,
      "metadata": {
        "id": "tdM4bkL8TvEF",
        "colab": {
          "base_uri": "https://localhost:8080/"
        },
        "outputId": "03de971f-244e-4c60-f2be-ba86c7da0fa8"
      },
      "outputs": [
        {
          "output_type": "stream",
          "name": "stdout",
          "text": [
            "load INSTRUCTOR_Transformer\n",
            "max_seq_length  512\n",
            "CPU times: user 6min 7s, sys: 3.31 s, total: 6min 10s\n",
            "Wall time: 5min 53s\n"
          ]
        },
        {
          "output_type": "stream",
          "name": "stderr",
          "text": [
            "<timed exec>:19: LangChainDeprecationWarning: Since Chroma 0.4.x the manual persistence method is no longer supported as docs are automatically persisted.\n"
          ]
        }
      ],
      "source": [
        "%%time\n",
        "\n",
        "from langchain.embeddings import HuggingFaceInstructEmbeddings\n",
        "\n",
        "\n",
        "persist_directory = 'harry-potter-vectordb-chroma'\n",
        "\n",
        "instructor_embeddings = HuggingFaceInstructEmbeddings(\n",
        "    model_name=\"hkunlp/instructor-xl\",\n",
        "    # model_name=\"hkunlp/instructor-base\",\n",
        "    model_kwargs={\"device\": \"cuda\"}\n",
        "    )\n",
        "\n",
        "vectordb = Chroma.from_documents(documents=texts,\n",
        "                                 embedding=instructor_embeddings,\n",
        "                                 persist_directory=persist_directory,\n",
        "                                 collection_name='hp_books')\n",
        "\n",
        "\n",
        "\n",
        "vectordb.persist()"
      ]
    },
    {
      "cell_type": "markdown",
      "source": [
        "# Retriever and QA Chain"
      ],
      "metadata": {
        "id": "nxyJ0R2FM0z4"
      }
    },
    {
      "cell_type": "code",
      "source": [
        "# retriever = vectordb.as_retriever(search_kwargs={\"k\": 3, \"search_type\" : \"similarity\"})\n",
        "retriever = vectordb.as_retriever(search_kwargs={\"k\": 3})\n",
        "\n",
        "\n",
        "qa_chain = RetrievalQA.from_chain_type(llm=llm,\n",
        "                                       chain_type=\"stuff\",\n",
        "                                       retriever=retriever,\n",
        "                                       return_source_documents=True,\n",
        "                                       verbose=False)"
      ],
      "metadata": {
        "id": "S7F0JyODd82u"
      },
      "execution_count": 19,
      "outputs": []
    },
    {
      "cell_type": "code",
      "source": [
        "qa_chain"
      ],
      "metadata": {
        "colab": {
          "base_uri": "https://localhost:8080/"
        },
        "id": "4g-Uyd_weFhF",
        "outputId": "0bc40706-427e-4bf6-f3b5-293bbb71cbfe"
      },
      "execution_count": 20,
      "outputs": [
        {
          "output_type": "execute_result",
          "data": {
            "text/plain": [
              "RetrievalQA(verbose=False, combine_documents_chain=StuffDocumentsChain(verbose=False, llm_chain=LLMChain(verbose=False, prompt=PromptTemplate(input_variables=['context', 'question'], input_types={}, partial_variables={}, template=\"Use the following pieces of context to answer the question at the end. If you don't know the answer, just say that you don't know, don't try to make up an answer.\\n\\n{context}\\n\\nQuestion: {question}\\nHelpful Answer:\"), llm=HuggingFacePipeline(pipeline=<transformers.pipelines.text_generation.TextGenerationPipeline object at 0x7e43c40ca1d0>), output_parser=StrOutputParser(), llm_kwargs={}), document_prompt=PromptTemplate(input_variables=['page_content'], input_types={}, partial_variables={}, template='{page_content}'), document_variable_name='context'), return_source_documents=True, retriever=VectorStoreRetriever(tags=['Chroma', 'HuggingFaceInstructEmbeddings'], vectorstore=<langchain_community.vectorstores.chroma.Chroma object at 0x7e43b173b490>, search_kwargs={'k': 3}))"
            ]
          },
          "metadata": {},
          "execution_count": 20
        }
      ]
    },
    {
      "cell_type": "code",
      "source": [
        "def wrap_text_preserve_newlines(text, width=110):\n",
        "    lines = text.split('\\n')\n",
        "\n",
        "    wrapped_lines = [textwrap.fill(line, width=width) for line in lines]\n",
        "\n",
        "    wrapped_text = '\\n'.join(wrapped_lines)\n",
        "\n",
        "    return wrapped_text\n",
        "\n",
        "def process_llm_response(llm_response):\n",
        "    print(wrap_text_preserve_newlines(llm_response['result']))\n",
        "    print('\\n\\nSources:')\n",
        "    for source in llm_response[\"source_documents\"]:\n",
        "        print(source.metadata['source'])"
      ],
      "metadata": {
        "id": "UQgIG9BUeMoo"
      },
      "execution_count": 36,
      "outputs": []
    },
    {
      "cell_type": "markdown",
      "source": [
        "# Function to Query the Chatbot"
      ],
      "metadata": {
        "id": "rjQp6tbbSfVm"
      }
    },
    {
      "cell_type": "code",
      "source": [
        "\n",
        "\n",
        "def llm_ans(query):\n",
        "\n",
        "    try:\n",
        "        llm_response = qa_chain(query)\n",
        "        print(f\"LLM Raw Response: {llm_response}\")\n",
        "        return llm_response['result']\n",
        "    except Exception as e:\n",
        "        print(f\"Error in LLM processing: {e}\")\n",
        "        return None\n"
      ],
      "metadata": {
        "id": "8P6uNrireSJk"
      },
      "execution_count": 44,
      "outputs": []
    },
    {
      "cell_type": "markdown",
      "source": [
        "# Questions and Answers"
      ],
      "metadata": {
        "id": "Vl1pKD0tM5iC"
      }
    },
    {
      "cell_type": "code",
      "source": [
        "query = \"Who is Harry Potter?\"\n",
        "llm_ans(query)"
      ],
      "metadata": {
        "colab": {
          "base_uri": "https://localhost:8080/",
          "height": 125
        },
        "id": "yxq9UCB9M9Zh",
        "outputId": "70a2a77f-53f6-4c6b-90fe-77e7ff7a8544"
      },
      "execution_count": 52,
      "outputs": [
        {
          "output_type": "stream",
          "name": "stdout",
          "text": [
            "LLM Raw Response: {'query': 'Who is Harry Potter?', 'result': \"Use the following pieces of context to answer the question at the end. If you don't know the answer, just say that you don't know, don't try to make up an answer.\\n\\nmessages to anyone in the wizarding world. Harry looked nothing like the rest of the family . Uncle V ernon was large and neckless, with an enormous black mustache; Aunt Petunia was horse-faced and bony; Dudley was blond, pink, and porky . Harry , on the other hand, was small and skinny , with brilliant green eyes and jet-black hair that was always untidy . He wore round glasses, and on his forehead was a thin, lightning-shaped scar. It was this scar that made Harry so particularly unusual, even for a wizard. This scar was the only hint of Harry’s very mysterious past, of the reason he had been left on the Dursleys’ doorstep eleven years before. At the age of one year old, Harry had somehow survived a curse from the greatest Dark sorcerer of all time, Lord V oldemort, whose name most witches and wizards still feared to speak. Harry’s parents had died in V oldemort’s attack, but Harry 2\\n\\nmessages to anyone in the wizarding world. Harry looked nothing like the rest of the family . Uncle V ernon was large and neckless, with an enormous black mustache; Aunt Petunia was horse-faced and bony; Dudley was blond, pink, and porky . Harry , on the other hand, was small and skinny , with brilliant green eyes and jet-black hair that was always untidy . He wore round glasses, and on his forehead was a thin, lightning-shaped scar. It was this scar that made Harry so particularly unusual, even for a wizard. This scar was the only hint of Harry’s very mysterious past, of the reason he had been left on the Dursleys’ doorstep eleven years before. At the age of one year old, Harry had somehow survived a curse from the greatest Dark sorcerer of all time, Lord V oldemort, whose name most witches and wizards still feared to speak. Harry’s parents had died in V oldemort’s attack, but Harry 2\\n\\nthat I owned a badly behaved rabbit.” He accepted a glass of eggnog from Mr. Weasley with a word of thanks, looking slightly more cheerful, Harry, meanwhile, felt a rush of excitement: This last mention of his father had reminded him that there was something he had been looking forward to asking Lupin. “Have you ever heard of someone called the HalfBlood Prince?” “The HalfBlood what?” “Prince,” said Harry, watching him closely for signs of recognition. “There are no Wizarding princes,” said Lupin, now smiling. “Is this a title you re thinking of adopting? I should have thought being ‘the Chosen One’ would be enough.” “It’s nothing to do with me!” said Harry indignantly. “The HalfBlood Prince is someone who used to go to Hogwarts, I’ve got his old Potions book. He wrote spells all over it, spells he invented. One of them was Levicorpus —” “Oh, that one had a great vogue during my time at Hogwarts,” said Lupin reminiscently. “There were a few months in my fifth year when you couldn’t\\n\\nQuestion: Who is Harry Potter?\\nHelpful Answer: Harry Potter is a fictional character in the Harry Potter series of books by J.K. Rowling. He is a young wizard who discovers that he is a famous wizard and has a destiny to fight against evil.\", 'source_documents': [Document(metadata={'page': 1, 'source': '/content/drive/My Drive/HarryPotter/02 Harry Potter and the Chamber of Secrets.pdf'}, page_content='messages to anyone in the wizarding world. Harry looked nothing like the rest of the family . Uncle V ernon was large and neckless, with an enormous black mustache; Aunt Petunia was horse-faced and bony; Dudley was blond, pink, and porky . Harry , on the other hand, was small and skinny , with brilliant green eyes and jet-black hair that was always untidy . He wore round glasses, and on his forehead was a thin, lightning-shaped scar. It was this scar that made Harry so particularly unusual, even for a wizard. This scar was the only hint of Harry’s very mysterious past, of the reason he had been left on the Dursleys’ doorstep eleven years before. At the age of one year old, Harry had somehow survived a curse from the greatest Dark sorcerer of all time, Lord V oldemort, whose name most witches and wizards still feared to speak. Harry’s parents had died in V oldemort’s attack, but Harry 2'), Document(metadata={'page': 1, 'source': '/content/drive/My Drive/HarryPotter/02 Harry Potter and the Chamber of Secrets.pdf'}, page_content='messages to anyone in the wizarding world. Harry looked nothing like the rest of the family . Uncle V ernon was large and neckless, with an enormous black mustache; Aunt Petunia was horse-faced and bony; Dudley was blond, pink, and porky . Harry , on the other hand, was small and skinny , with brilliant green eyes and jet-black hair that was always untidy . He wore round glasses, and on his forehead was a thin, lightning-shaped scar. It was this scar that made Harry so particularly unusual, even for a wizard. This scar was the only hint of Harry’s very mysterious past, of the reason he had been left on the Dursleys’ doorstep eleven years before. At the age of one year old, Harry had somehow survived a curse from the greatest Dark sorcerer of all time, Lord V oldemort, whose name most witches and wizards still feared to speak. Harry’s parents had died in V oldemort’s attack, but Harry 2'), Document(metadata={'page': 205, 'source': '/content/drive/My Drive/HarryPotter/06 Harry Potter and the Half-Blood Prince.pdf'}, page_content='that I owned a badly behaved rabbit.” He accepted a glass of eggnog from Mr. Weasley with a word of thanks, looking slightly more cheerful, Harry, meanwhile, felt a rush of excitement: This last mention of his father had reminded him that there was something he had been looking forward to asking Lupin. “Have you ever heard of someone called the HalfBlood Prince?” “The HalfBlood what?” “Prince,” said Harry, watching him closely for signs of recognition. “There are no Wizarding princes,” said Lupin, now smiling. “Is this a title you re thinking of adopting? I should have thought being ‘the Chosen One’ would be enough.” “It’s nothing to do with me!” said Harry indignantly. “The HalfBlood Prince is someone who used to go to Hogwarts, I’ve got his old Potions book. He wrote spells all over it, spells he invented. One of them was Levicorpus —” “Oh, that one had a great vogue during my time at Hogwarts,” said Lupin reminiscently. “There were a few months in my fifth year when you couldn’t')]}\n"
          ]
        },
        {
          "output_type": "execute_result",
          "data": {
            "text/plain": [
              "\"Use the following pieces of context to answer the question at the end. If you don't know the answer, just say that you don't know, don't try to make up an answer.\\n\\nmessages to anyone in the wizarding world. Harry looked nothing like the rest of the family . Uncle V ernon was large and neckless, with an enormous black mustache; Aunt Petunia was horse-faced and bony; Dudley was blond, pink, and porky . Harry , on the other hand, was small and skinny , with brilliant green eyes and jet-black hair that was always untidy . He wore round glasses, and on his forehead was a thin, lightning-shaped scar. It was this scar that made Harry so particularly unusual, even for a wizard. This scar was the only hint of Harry’s very mysterious past, of the reason he had been left on the Dursleys’ doorstep eleven years before. At the age of one year old, Harry had somehow survived a curse from the greatest Dark sorcerer of all time, Lord V oldemort, whose name most witches and wizards still feared to speak. Harry’s parents had died in V oldemort’s attack, but Harry 2\\n\\nmessages to anyone in the wizarding world. Harry looked nothing like the rest of the family . Uncle V ernon was large and neckless, with an enormous black mustache; Aunt Petunia was horse-faced and bony; Dudley was blond, pink, and porky . Harry , on the other hand, was small and skinny , with brilliant green eyes and jet-black hair that was always untidy . He wore round glasses, and on his forehead was a thin, lightning-shaped scar. It was this scar that made Harry so particularly unusual, even for a wizard. This scar was the only hint of Harry’s very mysterious past, of the reason he had been left on the Dursleys’ doorstep eleven years before. At the age of one year old, Harry had somehow survived a curse from the greatest Dark sorcerer of all time, Lord V oldemort, whose name most witches and wizards still feared to speak. Harry’s parents had died in V oldemort’s attack, but Harry 2\\n\\nthat I owned a badly behaved rabbit.” He accepted a glass of eggnog from Mr. Weasley with a word of thanks, looking slightly more cheerful, Harry, meanwhile, felt a rush of excitement: This last mention of his father had reminded him that there was something he had been looking forward to asking Lupin. “Have you ever heard of someone called the HalfBlood Prince?” “The HalfBlood what?” “Prince,” said Harry, watching him closely for signs of recognition. “There are no Wizarding princes,” said Lupin, now smiling. “Is this a title you re thinking of adopting? I should have thought being ‘the Chosen One’ would be enough.” “It’s nothing to do with me!” said Harry indignantly. “The HalfBlood Prince is someone who used to go to Hogwarts, I’ve got his old Potions book. He wrote spells all over it, spells he invented. One of them was Levicorpus —” “Oh, that one had a great vogue during my time at Hogwarts,” said Lupin reminiscently. “There were a few months in my fifth year when you couldn’t\\n\\nQuestion: Who is Harry Potter?\\nHelpful Answer: Harry Potter is a fictional character in the Harry Potter series of books by J.K. Rowling. He is a young wizard who discovers that he is a famous wizard and has a destiny to fight against evil.\""
            ],
            "application/vnd.google.colaboratory.intrinsic+json": {
              "type": "string"
            }
          },
          "metadata": {},
          "execution_count": 52
        }
      ]
    },
    {
      "cell_type": "code",
      "source": [
        "query = \"What is the name of the three-headed dog that guards the Sorcerer’s Stone?\"\n",
        "llm_ans(query)"
      ],
      "metadata": {
        "colab": {
          "base_uri": "https://localhost:8080/",
          "height": 246
        },
        "id": "_FdFsgAhecVf",
        "outputId": "8c21a27c-95e7-4114-9402-87d6d48b8b63"
      },
      "execution_count": 45,
      "outputs": [
        {
          "output_type": "stream",
          "name": "stdout",
          "text": [
            "LLM Raw Response: {'query': 'What is the name of the three-headed dog that guards the Sorcerer’s Stone?', 'result': \"Use the following pieces of context to answer the question at the end. If you don't know the answer, just say that you don't know, don't try to make up an answer.\\n\\nhappened so far. They weren’t in a room, as he had supposed. They were in a corridor. The forbidden corridor on the third floor. And now they knew why it was forbidden. They were looking straight into the eyes of a monstrous dog, a dog that filled the whole space between ceiling and floor. It had three heads. Three pairs of rolling, mad eyes; three noses, twitching and quivering in their direction; three drooling mouths, saliva hanging in slippery ropes from yellowish fangs. It was standing quite still, all six eyes staring at them, and Harry knew that the only reason they weren’t already dead was that their sudden appearance had taken it by surprise, but it was quickly getting over that, there was no mistaking what those thunderous growls meant. Harry groped for the doorknob — between Filch and death, he’d take Filch. They fell backward — Harry slammed the door shut, and they ran, they almost flew, back down the corridor. Filch must have hurried off to look for them somewhere else,\\n\\nhappened so far. They weren’t in a room, as he had supposed. They were in a corridor. The forbidden corridor on the third floor. And now they knew why it was forbidden. They were looking straight into the eyes of a monstrous dog, a dog that filled the whole space between ceiling and floor. It had three heads. Three pairs of rolling, mad eyes; three noses, twitching and quivering in their direction; three drooling mouths, saliva hanging in slippery ropes from yellowish fangs. It was standing quite still, all six eyes staring at them, and Harry knew that the only reason they weren’t already dead was that their sudden appearance had taken it by surprise, but it was quickly getting over that, there was no mistaking what those thunderous growls meant. Harry groped for the doorknob — between Filch and death, he’d take Filch. They fell backward — Harry slammed the door shut, and they ran, they almost flew, back down the corridor. Filch must have hurried off to look for them somewhere else,\\n\\nand seventy points to sixty. Harry heard none of this, though. He was being made a cup of strong tea back in Hagrid’s hut, with Ron and Hermione. “It was Snape,” Ron was explaining, “Hermione and I saw him. He was cursing your broomstick, muttering, he wouldn’t take his eyes off you.” “Rubbish,” said Hagrid, who hadn’t heard a word of what had gone on next to him in the stands. “Why would Snape do somethin’ like that?” Harry, Ron, and Hermione looked at one another, wondering what to tell him. Harry decided on the truth. “I found out something about him,” he told Hagrid. “He tried to get past that three-headed dog on Halloween. It bit him. We think he was trying to steal whatever it’s guarding.” Hagrid dropped the teapot. “How do you know about Fluffy?” he said. “Fluffy?” “Yeah — he’s mine — bought him off a Greek chappie I met in the pub las’ year — I lent him to Dumbledore to guard the —” “Yes?” said Harry eagerly. “Now, don’t ask me anymore,” said Hagrid gruffly. “That’s top\\n\\nQuestion: What is the name of the three-headed dog that guards the Sorcerer’s Stone?\\nHelpful Answer: Fluffy\", 'source_documents': [Document(metadata={'page': 97, 'source': '/content/drive/My Drive/HarryPotter/01 Harry Potter and the Sorcerers Stone.pdf'}, page_content='happened so far. They weren’t in a room, as he had supposed. They were in a corridor. The forbidden corridor on the third floor. And now they knew why it was forbidden. They were looking straight into the eyes of a monstrous dog, a dog that filled the whole space between ceiling and floor. It had three heads. Three pairs of rolling, mad eyes; three noses, twitching and quivering in their direction; three drooling mouths, saliva hanging in slippery ropes from yellowish fangs. It was standing quite still, all six eyes staring at them, and Harry knew that the only reason they weren’t already dead was that their sudden appearance had taken it by surprise, but it was quickly getting over that, there was no mistaking what those thunderous growls meant. Harry groped for the doorknob — between Filch and death, he’d take Filch. They fell backward — Harry slammed the door shut, and they ran, they almost flew, back down the corridor. Filch must have hurried off to look for them somewhere else,'), Document(metadata={'page': 97, 'source': '/content/drive/My Drive/HarryPotter/01 Harry Potter and the Sorcerers Stone.pdf'}, page_content='happened so far. They weren’t in a room, as he had supposed. They were in a corridor. The forbidden corridor on the third floor. And now they knew why it was forbidden. They were looking straight into the eyes of a monstrous dog, a dog that filled the whole space between ceiling and floor. It had three heads. Three pairs of rolling, mad eyes; three noses, twitching and quivering in their direction; three drooling mouths, saliva hanging in slippery ropes from yellowish fangs. It was standing quite still, all six eyes staring at them, and Harry knew that the only reason they weren’t already dead was that their sudden appearance had taken it by surprise, but it was quickly getting over that, there was no mistaking what those thunderous growls meant. Harry groped for the doorknob — between Filch and death, he’d take Filch. They fell backward — Harry slammed the door shut, and they ran, they almost flew, back down the corridor. Filch must have hurried off to look for them somewhere else,'), Document(metadata={'page': 116, 'source': '/content/drive/My Drive/HarryPotter/01 Harry Potter and the Sorcerers Stone.pdf'}, page_content='and seventy points to sixty. Harry heard none of this, though. He was being made a cup of strong tea back in Hagrid’s hut, with Ron and Hermione. “It was Snape,” Ron was explaining, “Hermione and I saw him. He was cursing your broomstick, muttering, he wouldn’t take his eyes off you.” “Rubbish,” said Hagrid, who hadn’t heard a word of what had gone on next to him in the stands. “Why would Snape do somethin’ like that?” Harry, Ron, and Hermione looked at one another, wondering what to tell him. Harry decided on the truth. “I found out something about him,” he told Hagrid. “He tried to get past that three-headed dog on Halloween. It bit him. We think he was trying to steal whatever it’s guarding.” Hagrid dropped the teapot. “How do you know about Fluffy?” he said. “Fluffy?” “Yeah — he’s mine — bought him off a Greek chappie I met in the pub las’ year — I lent him to Dumbledore to guard the —” “Yes?” said Harry eagerly. “Now, don’t ask me anymore,” said Hagrid gruffly. “That’s top')]}\n"
          ]
        },
        {
          "output_type": "execute_result",
          "data": {
            "text/plain": [
              "\"Use the following pieces of context to answer the question at the end. If you don't know the answer, just say that you don't know, don't try to make up an answer.\\n\\nhappened so far. They weren’t in a room, as he had supposed. They were in a corridor. The forbidden corridor on the third floor. And now they knew why it was forbidden. They were looking straight into the eyes of a monstrous dog, a dog that filled the whole space between ceiling and floor. It had three heads. Three pairs of rolling, mad eyes; three noses, twitching and quivering in their direction; three drooling mouths, saliva hanging in slippery ropes from yellowish fangs. It was standing quite still, all six eyes staring at them, and Harry knew that the only reason they weren’t already dead was that their sudden appearance had taken it by surprise, but it was quickly getting over that, there was no mistaking what those thunderous growls meant. Harry groped for the doorknob — between Filch and death, he’d take Filch. They fell backward — Harry slammed the door shut, and they ran, they almost flew, back down the corridor. Filch must have hurried off to look for them somewhere else,\\n\\nhappened so far. They weren’t in a room, as he had supposed. They were in a corridor. The forbidden corridor on the third floor. And now they knew why it was forbidden. They were looking straight into the eyes of a monstrous dog, a dog that filled the whole space between ceiling and floor. It had three heads. Three pairs of rolling, mad eyes; three noses, twitching and quivering in their direction; three drooling mouths, saliva hanging in slippery ropes from yellowish fangs. It was standing quite still, all six eyes staring at them, and Harry knew that the only reason they weren’t already dead was that their sudden appearance had taken it by surprise, but it was quickly getting over that, there was no mistaking what those thunderous growls meant. Harry groped for the doorknob — between Filch and death, he’d take Filch. They fell backward — Harry slammed the door shut, and they ran, they almost flew, back down the corridor. Filch must have hurried off to look for them somewhere else,\\n\\nand seventy points to sixty. Harry heard none of this, though. He was being made a cup of strong tea back in Hagrid’s hut, with Ron and Hermione. “It was Snape,” Ron was explaining, “Hermione and I saw him. He was cursing your broomstick, muttering, he wouldn’t take his eyes off you.” “Rubbish,” said Hagrid, who hadn’t heard a word of what had gone on next to him in the stands. “Why would Snape do somethin’ like that?” Harry, Ron, and Hermione looked at one another, wondering what to tell him. Harry decided on the truth. “I found out something about him,” he told Hagrid. “He tried to get past that three-headed dog on Halloween. It bit him. We think he was trying to steal whatever it’s guarding.” Hagrid dropped the teapot. “How do you know about Fluffy?” he said. “Fluffy?” “Yeah — he’s mine — bought him off a Greek chappie I met in the pub las’ year — I lent him to Dumbledore to guard the —” “Yes?” said Harry eagerly. “Now, don’t ask me anymore,” said Hagrid gruffly. “That’s top\\n\\nQuestion: What is the name of the three-headed dog that guards the Sorcerer’s Stone?\\nHelpful Answer: Fluffy\""
            ],
            "application/vnd.google.colaboratory.intrinsic+json": {
              "type": "string"
            }
          },
          "metadata": {},
          "execution_count": 45
        }
      ]
    },
    {
      "cell_type": "code",
      "source": [
        "query = \"Who is the head of Gryffindor house during Harry Potter's time at Hogwarts?\"\n",
        "llm_ans(query)"
      ],
      "metadata": {
        "colab": {
          "base_uri": "https://localhost:8080/",
          "height": 246
        },
        "id": "Sn1xJpVdfDQ8",
        "outputId": "556efe3c-8645-44f7-93f8-bc51d4b68679"
      },
      "execution_count": 46,
      "outputs": [
        {
          "output_type": "stream",
          "name": "stdout",
          "text": [
            "LLM Raw Response: {'query': \"Who is the head of Gryffindor house during Harry Potter's time at Hogwarts?\", 'result': \"Use the following pieces of context to answer the question at the end. If you don't know the answer, just say that you don't know, don't try to make up an answer.\\n\\nhave we got today?” Harry asked Ron as he poured sugar on his porridge. “Double Potions with the Slytherins,” said Ron. “Snape’s Head of Slytherin House. They say he always favors them — we’ll be able to see if it’s true.” “Wish McGonagall favored us,” said Harry. Professor McGonagall was head of Gryﬀindor House, but it hadn’t stopped her from giving them a huge pile of homework the day before. Just then, the mail arrived. Harry had gotten used to this by now, but it had given him a bit of a shock on the first morning, when about a hundred owls had suddenly streamed into the Great Hall during breakfast, circling the tables until they saw their owners, and dropping letters and packages onto their laps. Hedwig hadn’t brought Harry anything so far. She sometimes flew in to nibble his ear and have a bit of toast before going off to sleep in the owlery with the other school owls. This morning, however, she fluttered down between the 82\\n\\nhave we got today?” Harry asked Ron as he poured sugar on his porridge. “Double Potions with the Slytherins,” said Ron. “Snape’s Head of Slytherin House. They say he always favors them — we’ll be able to see if it’s true.” “Wish McGonagall favored us,” said Harry. Professor McGonagall was head of Gryﬀindor House, but it hadn’t stopped her from giving them a huge pile of homework the day before. Just then, the mail arrived. Harry had gotten used to this by now, but it had given him a bit of a shock on the first morning, when about a hundred owls had suddenly streamed into the Great Hall during breakfast, circling the tables until they saw their owners, and dropping letters and packages onto their laps. Hedwig hadn’t brought Harry anything so far. She sometimes flew in to nibble his ear and have a bit of toast before going off to sleep in the owlery with the other school owls. This morning, however, she fluttered down between the 82\\n\\nProfessor McGonagall, Deputy Headmistress and head of Gryﬀindor House, had come dashing out of the Great Hall; she skidded on the wet floor and grabbed Hermione around the neck to stop herself from falling. “Ouch - sorry , Miss Granger -” “That’s all right, Professor!” Hermione gasped, massaging her throat. “Peeves, get down here NOW!” barked Professor McGonagall, straightening her pointed hat and glaring upward through her square-rimmed spectacles. “Not doing nothing!” cackled Peeves, lobbing a water bomb at several fifth-year girls, who screamed and dived into the Great Hall. “Already wet, aren’t they? Little squirts! Wheeeeeeeeee!” And he aimed another bomb at a group of second years who had just arrived. “I shall call the headmaster!” shouted Professor McGonagall. “I’m warning you, Peeves -” Peeves stuck out his tongue, threw the last of his water bombs into the air, and zoomed off up the marble staircase, cackling insanely . “W ell, move along, then!” said Professor McGonagall\\n\\nQuestion: Who is the head of Gryffindor house during Harry Potter's time at Hogwarts?\\nHelpful Answer: Professor McGonagall\", 'source_documents': [Document(metadata={'page': 81, 'source': '/content/drive/My Drive/HarryPotter/01 Harry Potter and the Sorcerers Stone.pdf'}, page_content='have we got today?” Harry asked Ron as he poured sugar on his porridge. “Double Potions with the Slytherins,” said Ron. “Snape’s Head of Slytherin House. They say he always favors them — we’ll be able to see if it’s true.” “Wish McGonagall favored us,” said Harry. Professor McGonagall was head of Gryﬀindor House, but it hadn’t stopped her from giving them a huge pile of homework the day before. Just then, the mail arrived. Harry had gotten used to this by now, but it had given him a bit of a shock on the first morning, when about a hundred owls had suddenly streamed into the Great Hall during breakfast, circling the tables until they saw their owners, and dropping letters and packages onto their laps. Hedwig hadn’t brought Harry anything so far. She sometimes flew in to nibble his ear and have a bit of toast before going off to sleep in the owlery with the other school owls. This morning, however, she fluttered down between the 82'), Document(metadata={'page': 81, 'source': '/content/drive/My Drive/HarryPotter/01 Harry Potter and the Sorcerers Stone.pdf'}, page_content='have we got today?” Harry asked Ron as he poured sugar on his porridge. “Double Potions with the Slytherins,” said Ron. “Snape’s Head of Slytherin House. They say he always favors them — we’ll be able to see if it’s true.” “Wish McGonagall favored us,” said Harry. Professor McGonagall was head of Gryﬀindor House, but it hadn’t stopped her from giving them a huge pile of homework the day before. Just then, the mail arrived. Harry had gotten used to this by now, but it had given him a bit of a shock on the first morning, when about a hundred owls had suddenly streamed into the Great Hall during breakfast, circling the tables until they saw their owners, and dropping letters and packages onto their laps. Hedwig hadn’t brought Harry anything so far. She sometimes flew in to nibble his ear and have a bit of toast before going off to sleep in the owlery with the other school owls. This morning, however, she fluttered down between the 82'), Document(metadata={'page': 101, 'source': '/content/drive/My Drive/HarryPotter/04 Harry Potter and the Goblet of Fire.pdf'}, page_content='Professor McGonagall, Deputy Headmistress and head of Gryﬀindor House, had come dashing out of the Great Hall; she skidded on the wet floor and grabbed Hermione around the neck to stop herself from falling. “Ouch - sorry , Miss Granger -” “That’s all right, Professor!” Hermione gasped, massaging her throat. “Peeves, get down here NOW!” barked Professor McGonagall, straightening her pointed hat and glaring upward through her square-rimmed spectacles. “Not doing nothing!” cackled Peeves, lobbing a water bomb at several fifth-year girls, who screamed and dived into the Great Hall. “Already wet, aren’t they? Little squirts! Wheeeeeeeeee!” And he aimed another bomb at a group of second years who had just arrived. “I shall call the headmaster!” shouted Professor McGonagall. “I’m warning you, Peeves -” Peeves stuck out his tongue, threw the last of his water bombs into the air, and zoomed off up the marble staircase, cackling insanely . “W ell, move along, then!” said Professor McGonagall')]}\n"
          ]
        },
        {
          "output_type": "execute_result",
          "data": {
            "text/plain": [
              "\"Use the following pieces of context to answer the question at the end. If you don't know the answer, just say that you don't know, don't try to make up an answer.\\n\\nhave we got today?” Harry asked Ron as he poured sugar on his porridge. “Double Potions with the Slytherins,” said Ron. “Snape’s Head of Slytherin House. They say he always favors them — we’ll be able to see if it’s true.” “Wish McGonagall favored us,” said Harry. Professor McGonagall was head of Gryﬀindor House, but it hadn’t stopped her from giving them a huge pile of homework the day before. Just then, the mail arrived. Harry had gotten used to this by now, but it had given him a bit of a shock on the first morning, when about a hundred owls had suddenly streamed into the Great Hall during breakfast, circling the tables until they saw their owners, and dropping letters and packages onto their laps. Hedwig hadn’t brought Harry anything so far. She sometimes flew in to nibble his ear and have a bit of toast before going off to sleep in the owlery with the other school owls. This morning, however, she fluttered down between the 82\\n\\nhave we got today?” Harry asked Ron as he poured sugar on his porridge. “Double Potions with the Slytherins,” said Ron. “Snape’s Head of Slytherin House. They say he always favors them — we’ll be able to see if it’s true.” “Wish McGonagall favored us,” said Harry. Professor McGonagall was head of Gryﬀindor House, but it hadn’t stopped her from giving them a huge pile of homework the day before. Just then, the mail arrived. Harry had gotten used to this by now, but it had given him a bit of a shock on the first morning, when about a hundred owls had suddenly streamed into the Great Hall during breakfast, circling the tables until they saw their owners, and dropping letters and packages onto their laps. Hedwig hadn’t brought Harry anything so far. She sometimes flew in to nibble his ear and have a bit of toast before going off to sleep in the owlery with the other school owls. This morning, however, she fluttered down between the 82\\n\\nProfessor McGonagall, Deputy Headmistress and head of Gryﬀindor House, had come dashing out of the Great Hall; she skidded on the wet floor and grabbed Hermione around the neck to stop herself from falling. “Ouch - sorry , Miss Granger -” “That’s all right, Professor!” Hermione gasped, massaging her throat. “Peeves, get down here NOW!” barked Professor McGonagall, straightening her pointed hat and glaring upward through her square-rimmed spectacles. “Not doing nothing!” cackled Peeves, lobbing a water bomb at several fifth-year girls, who screamed and dived into the Great Hall. “Already wet, aren’t they? Little squirts! Wheeeeeeeeee!” And he aimed another bomb at a group of second years who had just arrived. “I shall call the headmaster!” shouted Professor McGonagall. “I’m warning you, Peeves -” Peeves stuck out his tongue, threw the last of his water bombs into the air, and zoomed off up the marble staircase, cackling insanely . “W ell, move along, then!” said Professor McGonagall\\n\\nQuestion: Who is the head of Gryffindor house during Harry Potter's time at Hogwarts?\\nHelpful Answer: Professor McGonagall\""
            ],
            "application/vnd.google.colaboratory.intrinsic+json": {
              "type": "string"
            }
          },
          "metadata": {},
          "execution_count": 46
        }
      ]
    },
    {
      "cell_type": "code",
      "source": [
        "query = \"What is the prophecy about Harry Potter and Voldemort?\"\n",
        "llm_ans(query)"
      ],
      "metadata": {
        "colab": {
          "base_uri": "https://localhost:8080/",
          "height": 264
        },
        "id": "I72MDSh-NA9s",
        "outputId": "1edfcf5d-edca-4c54-eaa6-0db2136af8bc"
      },
      "execution_count": 48,
      "outputs": [
        {
          "output_type": "stream",
          "name": "stdout",
          "text": [
            "LLM Raw Response: {'query': 'What is the prophecy about Harry Potter and Voldemort?', 'result': 'Use the following pieces of context to answer the question at the end. If you don\\'t know the answer, just say that you don\\'t know, don\\'t try to make up an answer.\\n\\nDumbledore surveyed him for a moment through his glasses. ‘The odd thing, Harry,’ he said softly, ‘is that it may not have meant you at all. Sybill’s prophecy could have applied to two wizard boys, both born at the end of July that year, both of whom had parents in the Order of the Phoenix, both sets of parents having narrowly escaped Voldemort three times. One, of course, was you. The other was Neville Longbottom.’ ‘But then … but then, why was it my name on the prophecy and not Neville’s?’ ‘The oﬀicial record was re-labelled after Voldemort’s attack on you as a child,’ said Dumbledore. ‘It seemed plain to the keeper of the Hall of Prophecy that Voldemort could only have tried to kill you because he knew you to be the one to whom Sybill was referring.’ ‘Then - it might not be me?’ said Harry ‘I am afraid,’ said Dumbledore slowly, looking as though every word cost him a great effort, ‘that there is no doubt that it is you. ‘But you said - Neville was born at the end of July, too - and\\n\\nDumbledore surveyed him for a moment through his glasses. ‘The odd thing, Harry,’ he said softly, ‘is that it may not have meant you at all. Sybill’s prophecy could have applied to two wizard boys, both born at the end of July that year, both of whom had parents in the Order of the Phoenix, both sets of parents having narrowly escaped Voldemort three times. One, of course, was you. The other was Neville Longbottom.’ ‘But then … but then, why was it my name on the prophecy and not Neville’s?’ ‘The oﬀicial record was re-labelled after Voldemort’s attack on you as a child,’ said Dumbledore. ‘It seemed plain to the keeper of the Hall of Prophecy that Voldemort could only have tried to kill you because he knew you to be the one to whom Sybill was referring.’ ‘Then - it might not be me?’ said Harry ‘I am afraid,’ said Dumbledore slowly, looking as though every word cost him a great effort, ‘that there is no doubt that it is you. ‘But you said - Neville was born at the end of July, too - and\\n\\n“Of course you would!” cried Dumbledore. “You see, the prophecy does not mean you have to do anything! But the prophecy caused Lord Voldemort to mark you as his equal. … In other words, you are free to choose your way, quite free to turn your back on the prophecy! But Voldemort continues to set store by the prophecy. He will continue to hunt you . . . which makes it certain, really, that —” “That one of us is going to end up killing the other,” said Harry. “Yes.” But he understood at last what Dumbledore had been trying to tell him. It was, he thought, the difference between being dragged into the arena to face a battle to the death and walking into the arena with your head held high. Some people, perhaps, would say that there was little to choose between the two ways, but Dumbledore knew — and so do I, thought Harry, with a rush of fierce pride, and so did my parents — that there was all the difference in the world. Harry Potter and the Half-Blood Prince Chapter 24: Sectumsempra\\n\\nQuestion: What is the prophecy about Harry Potter and Voldemort?\\nHelpful Answer: The prophecy states that \"neither can live while the other survives.\" This is a reference to the fact that Voldemort and Harry are both wizards who were born on July 31st, and that they are both part of the same prophecy. The prophecy also states that Harry will have power over Voldemort, and that Voldemort will die at Harry\\'s hands.', 'source_documents': [Document(metadata={'page': 596, 'source': '/content/drive/My Drive/HarryPotter/05 Harry Potter and the Order of the Phoenix.pdf'}, page_content='Dumbledore surveyed him for a moment through his glasses. ‘The odd thing, Harry,’ he said softly, ‘is that it may not have meant you at all. Sybill’s prophecy could have applied to two wizard boys, both born at the end of July that year, both of whom had parents in the Order of the Phoenix, both sets of parents having narrowly escaped Voldemort three times. One, of course, was you. The other was Neville Longbottom.’ ‘But then … but then, why was it my name on the prophecy and not Neville’s?’ ‘The oﬀicial record was re-labelled after Voldemort’s attack on you as a child,’ said Dumbledore. ‘It seemed plain to the keeper of the Hall of Prophecy that Voldemort could only have tried to kill you because he knew you to be the one to whom Sybill was referring.’ ‘Then - it might not be me?’ said Harry ‘I am afraid,’ said Dumbledore slowly, looking as though every word cost him a great effort, ‘that there is no doubt that it is you. ‘But you said - Neville was born at the end of July, too - and'), Document(metadata={'page': 596, 'source': '/content/drive/My Drive/HarryPotter/05 Harry Potter and the Order of the Phoenix.pdf'}, page_content='Dumbledore surveyed him for a moment through his glasses. ‘The odd thing, Harry,’ he said softly, ‘is that it may not have meant you at all. Sybill’s prophecy could have applied to two wizard boys, both born at the end of July that year, both of whom had parents in the Order of the Phoenix, both sets of parents having narrowly escaped Voldemort three times. One, of course, was you. The other was Neville Longbottom.’ ‘But then … but then, why was it my name on the prophecy and not Neville’s?’ ‘The oﬀicial record was re-labelled after Voldemort’s attack on you as a child,’ said Dumbledore. ‘It seemed plain to the keeper of the Hall of Prophecy that Voldemort could only have tried to kill you because he knew you to be the one to whom Sybill was referring.’ ‘Then - it might not be me?’ said Harry ‘I am afraid,’ said Dumbledore slowly, looking as though every word cost him a great effort, ‘that there is no doubt that it is you. ‘But you said - Neville was born at the end of July, too - and'), Document(metadata={'page': 313, 'source': '/content/drive/My Drive/HarryPotter/06 Harry Potter and the Half-Blood Prince.pdf'}, page_content='“Of course you would!” cried Dumbledore. “You see, the prophecy does not mean you have to do anything! But the prophecy caused Lord Voldemort to mark you as his equal. … In other words, you are free to choose your way, quite free to turn your back on the prophecy! But Voldemort continues to set store by the prophecy. He will continue to hunt you . . . which makes it certain, really, that —” “That one of us is going to end up killing the other,” said Harry. “Yes.” But he understood at last what Dumbledore had been trying to tell him. It was, he thought, the difference between being dragged into the arena to face a battle to the death and walking into the arena with your head held high. Some people, perhaps, would say that there was little to choose between the two ways, but Dumbledore knew — and so do I, thought Harry, with a rush of fierce pride, and so did my parents — that there was all the difference in the world. Harry Potter and the Half-Blood Prince Chapter 24: Sectumsempra')]}\n"
          ]
        },
        {
          "output_type": "execute_result",
          "data": {
            "text/plain": [
              "'Use the following pieces of context to answer the question at the end. If you don\\'t know the answer, just say that you don\\'t know, don\\'t try to make up an answer.\\n\\nDumbledore surveyed him for a moment through his glasses. ‘The odd thing, Harry,’ he said softly, ‘is that it may not have meant you at all. Sybill’s prophecy could have applied to two wizard boys, both born at the end of July that year, both of whom had parents in the Order of the Phoenix, both sets of parents having narrowly escaped Voldemort three times. One, of course, was you. The other was Neville Longbottom.’ ‘But then … but then, why was it my name on the prophecy and not Neville’s?’ ‘The oﬀicial record was re-labelled after Voldemort’s attack on you as a child,’ said Dumbledore. ‘It seemed plain to the keeper of the Hall of Prophecy that Voldemort could only have tried to kill you because he knew you to be the one to whom Sybill was referring.’ ‘Then - it might not be me?’ said Harry ‘I am afraid,’ said Dumbledore slowly, looking as though every word cost him a great effort, ‘that there is no doubt that it is you. ‘But you said - Neville was born at the end of July, too - and\\n\\nDumbledore surveyed him for a moment through his glasses. ‘The odd thing, Harry,’ he said softly, ‘is that it may not have meant you at all. Sybill’s prophecy could have applied to two wizard boys, both born at the end of July that year, both of whom had parents in the Order of the Phoenix, both sets of parents having narrowly escaped Voldemort three times. One, of course, was you. The other was Neville Longbottom.’ ‘But then … but then, why was it my name on the prophecy and not Neville’s?’ ‘The oﬀicial record was re-labelled after Voldemort’s attack on you as a child,’ said Dumbledore. ‘It seemed plain to the keeper of the Hall of Prophecy that Voldemort could only have tried to kill you because he knew you to be the one to whom Sybill was referring.’ ‘Then - it might not be me?’ said Harry ‘I am afraid,’ said Dumbledore slowly, looking as though every word cost him a great effort, ‘that there is no doubt that it is you. ‘But you said - Neville was born at the end of July, too - and\\n\\n“Of course you would!” cried Dumbledore. “You see, the prophecy does not mean you have to do anything! But the prophecy caused Lord Voldemort to mark you as his equal. … In other words, you are free to choose your way, quite free to turn your back on the prophecy! But Voldemort continues to set store by the prophecy. He will continue to hunt you . . . which makes it certain, really, that —” “That one of us is going to end up killing the other,” said Harry. “Yes.” But he understood at last what Dumbledore had been trying to tell him. It was, he thought, the difference between being dragged into the arena to face a battle to the death and walking into the arena with your head held high. Some people, perhaps, would say that there was little to choose between the two ways, but Dumbledore knew — and so do I, thought Harry, with a rush of fierce pride, and so did my parents — that there was all the difference in the world. Harry Potter and the Half-Blood Prince Chapter 24: Sectumsempra\\n\\nQuestion: What is the prophecy about Harry Potter and Voldemort?\\nHelpful Answer: The prophecy states that \"neither can live while the other survives.\" This is a reference to the fact that Voldemort and Harry are both wizards who were born on July 31st, and that they are both part of the same prophecy. The prophecy also states that Harry will have power over Voldemort, and that Voldemort will die at Harry\\'s hands.'"
            ],
            "application/vnd.google.colaboratory.intrinsic+json": {
              "type": "string"
            }
          },
          "metadata": {},
          "execution_count": 48
        }
      ]
    },
    {
      "cell_type": "code",
      "source": [
        "query = \"What are the Deathly Hallows?\"\n",
        "llm_ans(query)"
      ],
      "metadata": {
        "colab": {
          "base_uri": "https://localhost:8080/",
          "height": 281
        },
        "id": "70u5RRBuNBac",
        "outputId": "121b86e8-e418-4a20-ce90-3394b5dc8c2e"
      },
      "execution_count": 49,
      "outputs": [
        {
          "output_type": "stream",
          "name": "stdout",
          "text": [
            "LLM Raw Response: {'query': 'What are the Deathly Hallows?', 'result': \"Use the following pieces of context to answer the question at the end. If you don't know the answer, just say that you don't know, don't try to make up an answer.\\n\\nBoth Harry’s and the Death Eater’s wands flew out of their hands and soared back towards the entrance to the Hall of Prophecy; both scrambled to their feet and charged after them, the Death Eater in front, Harry hot on his heels, and Neville bringing up the rear, plainly horrorstruck by what he had done. ’Get out of the way, Harry!’ yelled Neville, clearly determined to repair the damage. Harry flung himself sideways as Neville took aim again and shouted: ’STUPEFY!’ The jet of red light flew right over the Death Eater’s shoulder and hit a glass- fronted cabinet on the wall full of variously shaped hour-glasses; the cabinet fell to the floor and burst apart, glass flying everywhere, sprang back up on to the wall, fully mended, then fell down again, and shattered - The Death Eater had snatched up his wand, which lay on the floor beside the glittering bell jar. Harry ducked down behind another desk as the man turned; his mask had slipped so that he couldn’t see. He ripped it off with his\\n\\nBoth Harry’s and the Death Eater’s wands flew out of their hands and soared back towards the entrance to the Hall of Prophecy; both scrambled to their feet and charged after them, the Death Eater in front, Harry hot on his heels, and Neville bringing up the rear, plainly horrorstruck by what he had done. ’Get out of the way, Harry!’ yelled Neville, clearly determined to repair the damage. Harry flung himself sideways as Neville took aim again and shouted: ’STUPEFY!’ The jet of red light flew right over the Death Eater’s shoulder and hit a glass- fronted cabinet on the wall full of variously shaped hour-glasses; the cabinet fell to the floor and burst apart, glass flying everywhere, sprang back up on to the wall, fully mended, then fell down again, and shattered - The Death Eater had snatched up his wand, which lay on the floor beside the glittering bell jar. Harry ducked down behind another desk as the man turned; his mask had slipped so that he couldn’t see. He ripped it off with his\\n\\nlearned from the Carrows,” said Harry grimly. “Shame he wasn’t concentrating when they mentioned how to stop it, really,” said Ron, whose hair, like Hermione’s, was singed, and whose face was blackened. “If he hadn’t tried to kill us all, I’d be quite sorry he was dead.” “But don’t you realize?” whispered Hermione. “This means, if we can just get the snake –“ But she broke off as yells and shouts and the unmistakable noises of dueling filled the corridor. Harry looked around and his heart seemed to fail: Death Eaters had penetrated Hogwarts. Fred and Percy had just backed into view, both of them dueling masked and hooded men. Harry, Ron, and Hermione ran forward to help: Jets of light flew in every direction and the man dueling Percy backed off, fast: Then his hood slipped and they saw a high forehead and streaked hair – “Hello, Minister!” bellowed Percy, sending a neat jinx straight at Thicknesse, who dropped his wand and clawed at the front of his robes, apparently in awful\\n\\nQuestion: What are the Deathly Hallows?\\nHelpful Answer: The Deathly Hallows are three powerful artifacts that are central to the Harry Potter series. They are the Elder Wand, the Resurrection Stone, and the Invisibility Cloak. The Elder Wand is a legendary wand that has been passed down through generations of Dark Wizards, and is considered one of the most powerful objects in existence. The Resurrection Stone is a stone that allows its user to see the person or object they love most in the world, but only once. The Invisibility Cloak is a magical garment that renders its wearer invisible. These three objects are coveted by many characters throughout the series, including Voldemort, Dumbledore, and Harry himself.\", 'source_documents': [Document(metadata={'page': 559, 'source': '/content/drive/My Drive/HarryPotter/05 Harry Potter and the Order of the Phoenix.pdf'}, page_content='Both Harry’s and the Death Eater’s wands flew out of their hands and soared back towards the entrance to the Hall of Prophecy; both scrambled to their feet and charged after them, the Death Eater in front, Harry hot on his heels, and Neville bringing up the rear, plainly horrorstruck by what he had done. ’Get out of the way, Harry!’ yelled Neville, clearly determined to repair the damage. Harry flung himself sideways as Neville took aim again and shouted: ’STUPEFY!’ The jet of red light flew right over the Death Eater’s shoulder and hit a glass- fronted cabinet on the wall full of variously shaped hour-glasses; the cabinet fell to the floor and burst apart, glass flying everywhere, sprang back up on to the wall, fully mended, then fell down again, and shattered - The Death Eater had snatched up his wand, which lay on the floor beside the glittering bell jar. Harry ducked down behind another desk as the man turned; his mask had slipped so that he couldn’t see. He ripped it off with his'), Document(metadata={'page': 559, 'source': '/content/drive/My Drive/HarryPotter/05 Harry Potter and the Order of the Phoenix.pdf'}, page_content='Both Harry’s and the Death Eater’s wands flew out of their hands and soared back towards the entrance to the Hall of Prophecy; both scrambled to their feet and charged after them, the Death Eater in front, Harry hot on his heels, and Neville bringing up the rear, plainly horrorstruck by what he had done. ’Get out of the way, Harry!’ yelled Neville, clearly determined to repair the damage. Harry flung himself sideways as Neville took aim again and shouted: ’STUPEFY!’ The jet of red light flew right over the Death Eater’s shoulder and hit a glass- fronted cabinet on the wall full of variously shaped hour-glasses; the cabinet fell to the floor and burst apart, glass flying everywhere, sprang back up on to the wall, fully mended, then fell down again, and shattered - The Death Eater had snatched up his wand, which lay on the floor beside the glittering bell jar. Harry ducked down behind another desk as the man turned; his mask had slipped so that he couldn’t see. He ripped it off with his'), Document(metadata={'page': 383, 'source': '/content/drive/My Drive/HarryPotter/07 Harry Potter and the Deathly Hallows.pdf'}, page_content='learned from the Carrows,” said Harry grimly. “Shame he wasn’t concentrating when they mentioned how to stop it, really,” said Ron, whose hair, like Hermione’s, was singed, and whose face was blackened. “If he hadn’t tried to kill us all, I’d be quite sorry he was dead.” “But don’t you realize?” whispered Hermione. “This means, if we can just get the snake –“ But she broke off as yells and shouts and the unmistakable noises of dueling filled the corridor. Harry looked around and his heart seemed to fail: Death Eaters had penetrated Hogwarts. Fred and Percy had just backed into view, both of them dueling masked and hooded men. Harry, Ron, and Hermione ran forward to help: Jets of light flew in every direction and the man dueling Percy backed off, fast: Then his hood slipped and they saw a high forehead and streaked hair – “Hello, Minister!” bellowed Percy, sending a neat jinx straight at Thicknesse, who dropped his wand and clawed at the front of his robes, apparently in awful')]}\n"
          ]
        },
        {
          "output_type": "execute_result",
          "data": {
            "text/plain": [
              "\"Use the following pieces of context to answer the question at the end. If you don't know the answer, just say that you don't know, don't try to make up an answer.\\n\\nBoth Harry’s and the Death Eater’s wands flew out of their hands and soared back towards the entrance to the Hall of Prophecy; both scrambled to their feet and charged after them, the Death Eater in front, Harry hot on his heels, and Neville bringing up the rear, plainly horrorstruck by what he had done. ’Get out of the way, Harry!’ yelled Neville, clearly determined to repair the damage. Harry flung himself sideways as Neville took aim again and shouted: ’STUPEFY!’ The jet of red light flew right over the Death Eater’s shoulder and hit a glass- fronted cabinet on the wall full of variously shaped hour-glasses; the cabinet fell to the floor and burst apart, glass flying everywhere, sprang back up on to the wall, fully mended, then fell down again, and shattered - The Death Eater had snatched up his wand, which lay on the floor beside the glittering bell jar. Harry ducked down behind another desk as the man turned; his mask had slipped so that he couldn’t see. He ripped it off with his\\n\\nBoth Harry’s and the Death Eater’s wands flew out of their hands and soared back towards the entrance to the Hall of Prophecy; both scrambled to their feet and charged after them, the Death Eater in front, Harry hot on his heels, and Neville bringing up the rear, plainly horrorstruck by what he had done. ’Get out of the way, Harry!’ yelled Neville, clearly determined to repair the damage. Harry flung himself sideways as Neville took aim again and shouted: ’STUPEFY!’ The jet of red light flew right over the Death Eater’s shoulder and hit a glass- fronted cabinet on the wall full of variously shaped hour-glasses; the cabinet fell to the floor and burst apart, glass flying everywhere, sprang back up on to the wall, fully mended, then fell down again, and shattered - The Death Eater had snatched up his wand, which lay on the floor beside the glittering bell jar. Harry ducked down behind another desk as the man turned; his mask had slipped so that he couldn’t see. He ripped it off with his\\n\\nlearned from the Carrows,” said Harry grimly. “Shame he wasn’t concentrating when they mentioned how to stop it, really,” said Ron, whose hair, like Hermione’s, was singed, and whose face was blackened. “If he hadn’t tried to kill us all, I’d be quite sorry he was dead.” “But don’t you realize?” whispered Hermione. “This means, if we can just get the snake –“ But she broke off as yells and shouts and the unmistakable noises of dueling filled the corridor. Harry looked around and his heart seemed to fail: Death Eaters had penetrated Hogwarts. Fred and Percy had just backed into view, both of them dueling masked and hooded men. Harry, Ron, and Hermione ran forward to help: Jets of light flew in every direction and the man dueling Percy backed off, fast: Then his hood slipped and they saw a high forehead and streaked hair – “Hello, Minister!” bellowed Percy, sending a neat jinx straight at Thicknesse, who dropped his wand and clawed at the front of his robes, apparently in awful\\n\\nQuestion: What are the Deathly Hallows?\\nHelpful Answer: The Deathly Hallows are three powerful artifacts that are central to the Harry Potter series. They are the Elder Wand, the Resurrection Stone, and the Invisibility Cloak. The Elder Wand is a legendary wand that has been passed down through generations of Dark Wizards, and is considered one of the most powerful objects in existence. The Resurrection Stone is a stone that allows its user to see the person or object they love most in the world, but only once. The Invisibility Cloak is a magical garment that renders its wearer invisible. These three objects are coveted by many characters throughout the series, including Voldemort, Dumbledore, and Harry himself.\""
            ],
            "application/vnd.google.colaboratory.intrinsic+json": {
              "type": "string"
            }
          },
          "metadata": {},
          "execution_count": 49
        }
      ]
    },
    {
      "cell_type": "markdown",
      "source": [
        "# Webapp\n"
      ],
      "metadata": {
        "id": "gp2ATayhMEY1"
      }
    },
    {
      "cell_type": "code",
      "source": [
        "import gradio as gr\n",
        "\n",
        "def api_query(query):\n",
        "\n",
        "    return llm_ans(query)\n",
        "\n",
        "def interface(query):\n",
        "    return api_query(query)\n",
        "\n",
        "\n",
        "demo = gr.Interface(fn=interface, inputs=\"text\", outputs=\"text\", title=\"Harry Potter LLM Chatbot\", description=\"Ask questions about Harry Potter\")\n",
        "demo.launch(share=True)\n"
      ],
      "metadata": {
        "id": "HopY8Zi-dY8A",
        "colab": {
          "base_uri": "https://localhost:8080/",
          "height": 591
        },
        "outputId": "a7ee3b86-38e1-407d-dba9-464ba4526c4f"
      },
      "execution_count": 51,
      "outputs": [
        {
          "output_type": "stream",
          "name": "stdout",
          "text": [
            "Colab notebook detected. To show errors in colab notebook, set debug=True in launch()\n",
            "* Running on public URL: https://fa64eccda7eadb8247.gradio.live\n",
            "\n",
            "This share link expires in 72 hours. For free permanent hosting and GPU upgrades, run `gradio deploy` from the terminal in the working directory to deploy to Hugging Face Spaces (https://huggingface.co/spaces)\n"
          ]
        },
        {
          "output_type": "display_data",
          "data": {
            "text/plain": [
              "<IPython.core.display.HTML object>"
            ],
            "text/html": [
              "<div><iframe src=\"https://fa64eccda7eadb8247.gradio.live\" width=\"100%\" height=\"500\" allow=\"autoplay; camera; microphone; clipboard-read; clipboard-write;\" frameborder=\"0\" allowfullscreen></iframe></div>"
            ]
          },
          "metadata": {}
        },
        {
          "output_type": "execute_result",
          "data": {
            "text/plain": []
          },
          "metadata": {},
          "execution_count": 51
        }
      ]
    }
  ],
  "metadata": {
    "accelerator": "GPU",
    "colab": {
      "gpuType": "A100",
      "provenance": [],
      "machine_shape": "hm",
      "include_colab_link": true
    },
    "kernelspec": {
      "display_name": "Python 3",
      "name": "python3"
    },
    "language_info": {
      "name": "python"
    },
    "widgets": {
      "application/vnd.jupyter.widget-state+json": {
        "544829a034b94f1a9888df1da66038bd": {
          "model_module": "@jupyter-widgets/controls",
          "model_name": "HBoxModel",
          "model_module_version": "1.5.0",
          "state": {
            "_dom_classes": [],
            "_model_module": "@jupyter-widgets/controls",
            "_model_module_version": "1.5.0",
            "_model_name": "HBoxModel",
            "_view_count": null,
            "_view_module": "@jupyter-widgets/controls",
            "_view_module_version": "1.5.0",
            "_view_name": "HBoxView",
            "box_style": "",
            "children": [
              "IPY_MODEL_457a2329ff444da9b95836537ac77be6",
              "IPY_MODEL_39a98753d9e945bf914afe10df836038",
              "IPY_MODEL_4ae679de28bc45a9a6ba9d102e00d551"
            ],
            "layout": "IPY_MODEL_19d388f62fed426f9a88d96a4bfb045b"
          }
        },
        "457a2329ff444da9b95836537ac77be6": {
          "model_module": "@jupyter-widgets/controls",
          "model_name": "HTMLModel",
          "model_module_version": "1.5.0",
          "state": {
            "_dom_classes": [],
            "_model_module": "@jupyter-widgets/controls",
            "_model_module_version": "1.5.0",
            "_model_name": "HTMLModel",
            "_view_count": null,
            "_view_module": "@jupyter-widgets/controls",
            "_view_module_version": "1.5.0",
            "_view_name": "HTMLView",
            "description": "",
            "description_tooltip": null,
            "layout": "IPY_MODEL_bfbcd490ee5c41fda2d8450164b5deeb",
            "placeholder": "​",
            "style": "IPY_MODEL_512270c12faa4066a184a9138b8afd7f",
            "value": "Loading checkpoint shards: 100%"
          }
        },
        "39a98753d9e945bf914afe10df836038": {
          "model_module": "@jupyter-widgets/controls",
          "model_name": "FloatProgressModel",
          "model_module_version": "1.5.0",
          "state": {
            "_dom_classes": [],
            "_model_module": "@jupyter-widgets/controls",
            "_model_module_version": "1.5.0",
            "_model_name": "FloatProgressModel",
            "_view_count": null,
            "_view_module": "@jupyter-widgets/controls",
            "_view_module_version": "1.5.0",
            "_view_name": "ProgressView",
            "bar_style": "success",
            "description": "",
            "description_tooltip": null,
            "layout": "IPY_MODEL_bfb7f4b0bc744d2c9733f0e00894dc11",
            "max": 2,
            "min": 0,
            "orientation": "horizontal",
            "style": "IPY_MODEL_2a5d2d96072a418687faea7dfe9aefba",
            "value": 2
          }
        },
        "4ae679de28bc45a9a6ba9d102e00d551": {
          "model_module": "@jupyter-widgets/controls",
          "model_name": "HTMLModel",
          "model_module_version": "1.5.0",
          "state": {
            "_dom_classes": [],
            "_model_module": "@jupyter-widgets/controls",
            "_model_module_version": "1.5.0",
            "_model_name": "HTMLModel",
            "_view_count": null,
            "_view_module": "@jupyter-widgets/controls",
            "_view_module_version": "1.5.0",
            "_view_name": "HTMLView",
            "description": "",
            "description_tooltip": null,
            "layout": "IPY_MODEL_ba6601383d994234a8f6029ec43b7bfa",
            "placeholder": "​",
            "style": "IPY_MODEL_be72b000ca964084857812c9392e160c",
            "value": " 2/2 [00:05&lt;00:00,  2.77s/it]"
          }
        },
        "19d388f62fed426f9a88d96a4bfb045b": {
          "model_module": "@jupyter-widgets/base",
          "model_name": "LayoutModel",
          "model_module_version": "1.2.0",
          "state": {
            "_model_module": "@jupyter-widgets/base",
            "_model_module_version": "1.2.0",
            "_model_name": "LayoutModel",
            "_view_count": null,
            "_view_module": "@jupyter-widgets/base",
            "_view_module_version": "1.2.0",
            "_view_name": "LayoutView",
            "align_content": null,
            "align_items": null,
            "align_self": null,
            "border": null,
            "bottom": null,
            "display": null,
            "flex": null,
            "flex_flow": null,
            "grid_area": null,
            "grid_auto_columns": null,
            "grid_auto_flow": null,
            "grid_auto_rows": null,
            "grid_column": null,
            "grid_gap": null,
            "grid_row": null,
            "grid_template_areas": null,
            "grid_template_columns": null,
            "grid_template_rows": null,
            "height": null,
            "justify_content": null,
            "justify_items": null,
            "left": null,
            "margin": null,
            "max_height": null,
            "max_width": null,
            "min_height": null,
            "min_width": null,
            "object_fit": null,
            "object_position": null,
            "order": null,
            "overflow": null,
            "overflow_x": null,
            "overflow_y": null,
            "padding": null,
            "right": null,
            "top": null,
            "visibility": null,
            "width": null
          }
        },
        "bfbcd490ee5c41fda2d8450164b5deeb": {
          "model_module": "@jupyter-widgets/base",
          "model_name": "LayoutModel",
          "model_module_version": "1.2.0",
          "state": {
            "_model_module": "@jupyter-widgets/base",
            "_model_module_version": "1.2.0",
            "_model_name": "LayoutModel",
            "_view_count": null,
            "_view_module": "@jupyter-widgets/base",
            "_view_module_version": "1.2.0",
            "_view_name": "LayoutView",
            "align_content": null,
            "align_items": null,
            "align_self": null,
            "border": null,
            "bottom": null,
            "display": null,
            "flex": null,
            "flex_flow": null,
            "grid_area": null,
            "grid_auto_columns": null,
            "grid_auto_flow": null,
            "grid_auto_rows": null,
            "grid_column": null,
            "grid_gap": null,
            "grid_row": null,
            "grid_template_areas": null,
            "grid_template_columns": null,
            "grid_template_rows": null,
            "height": null,
            "justify_content": null,
            "justify_items": null,
            "left": null,
            "margin": null,
            "max_height": null,
            "max_width": null,
            "min_height": null,
            "min_width": null,
            "object_fit": null,
            "object_position": null,
            "order": null,
            "overflow": null,
            "overflow_x": null,
            "overflow_y": null,
            "padding": null,
            "right": null,
            "top": null,
            "visibility": null,
            "width": null
          }
        },
        "512270c12faa4066a184a9138b8afd7f": {
          "model_module": "@jupyter-widgets/controls",
          "model_name": "DescriptionStyleModel",
          "model_module_version": "1.5.0",
          "state": {
            "_model_module": "@jupyter-widgets/controls",
            "_model_module_version": "1.5.0",
            "_model_name": "DescriptionStyleModel",
            "_view_count": null,
            "_view_module": "@jupyter-widgets/base",
            "_view_module_version": "1.2.0",
            "_view_name": "StyleView",
            "description_width": ""
          }
        },
        "bfb7f4b0bc744d2c9733f0e00894dc11": {
          "model_module": "@jupyter-widgets/base",
          "model_name": "LayoutModel",
          "model_module_version": "1.2.0",
          "state": {
            "_model_module": "@jupyter-widgets/base",
            "_model_module_version": "1.2.0",
            "_model_name": "LayoutModel",
            "_view_count": null,
            "_view_module": "@jupyter-widgets/base",
            "_view_module_version": "1.2.0",
            "_view_name": "LayoutView",
            "align_content": null,
            "align_items": null,
            "align_self": null,
            "border": null,
            "bottom": null,
            "display": null,
            "flex": null,
            "flex_flow": null,
            "grid_area": null,
            "grid_auto_columns": null,
            "grid_auto_flow": null,
            "grid_auto_rows": null,
            "grid_column": null,
            "grid_gap": null,
            "grid_row": null,
            "grid_template_areas": null,
            "grid_template_columns": null,
            "grid_template_rows": null,
            "height": null,
            "justify_content": null,
            "justify_items": null,
            "left": null,
            "margin": null,
            "max_height": null,
            "max_width": null,
            "min_height": null,
            "min_width": null,
            "object_fit": null,
            "object_position": null,
            "order": null,
            "overflow": null,
            "overflow_x": null,
            "overflow_y": null,
            "padding": null,
            "right": null,
            "top": null,
            "visibility": null,
            "width": null
          }
        },
        "2a5d2d96072a418687faea7dfe9aefba": {
          "model_module": "@jupyter-widgets/controls",
          "model_name": "ProgressStyleModel",
          "model_module_version": "1.5.0",
          "state": {
            "_model_module": "@jupyter-widgets/controls",
            "_model_module_version": "1.5.0",
            "_model_name": "ProgressStyleModel",
            "_view_count": null,
            "_view_module": "@jupyter-widgets/base",
            "_view_module_version": "1.2.0",
            "_view_name": "StyleView",
            "bar_color": null,
            "description_width": ""
          }
        },
        "ba6601383d994234a8f6029ec43b7bfa": {
          "model_module": "@jupyter-widgets/base",
          "model_name": "LayoutModel",
          "model_module_version": "1.2.0",
          "state": {
            "_model_module": "@jupyter-widgets/base",
            "_model_module_version": "1.2.0",
            "_model_name": "LayoutModel",
            "_view_count": null,
            "_view_module": "@jupyter-widgets/base",
            "_view_module_version": "1.2.0",
            "_view_name": "LayoutView",
            "align_content": null,
            "align_items": null,
            "align_self": null,
            "border": null,
            "bottom": null,
            "display": null,
            "flex": null,
            "flex_flow": null,
            "grid_area": null,
            "grid_auto_columns": null,
            "grid_auto_flow": null,
            "grid_auto_rows": null,
            "grid_column": null,
            "grid_gap": null,
            "grid_row": null,
            "grid_template_areas": null,
            "grid_template_columns": null,
            "grid_template_rows": null,
            "height": null,
            "justify_content": null,
            "justify_items": null,
            "left": null,
            "margin": null,
            "max_height": null,
            "max_width": null,
            "min_height": null,
            "min_width": null,
            "object_fit": null,
            "object_position": null,
            "order": null,
            "overflow": null,
            "overflow_x": null,
            "overflow_y": null,
            "padding": null,
            "right": null,
            "top": null,
            "visibility": null,
            "width": null
          }
        },
        "be72b000ca964084857812c9392e160c": {
          "model_module": "@jupyter-widgets/controls",
          "model_name": "DescriptionStyleModel",
          "model_module_version": "1.5.0",
          "state": {
            "_model_module": "@jupyter-widgets/controls",
            "_model_module_version": "1.5.0",
            "_model_name": "DescriptionStyleModel",
            "_view_count": null,
            "_view_module": "@jupyter-widgets/base",
            "_view_module_version": "1.2.0",
            "_view_name": "StyleView",
            "description_width": ""
          }
        }
      }
    }
  },
  "nbformat": 4,
  "nbformat_minor": 0
}